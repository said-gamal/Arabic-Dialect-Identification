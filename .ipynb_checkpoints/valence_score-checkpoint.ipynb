{
 "cells": [
  {
   "cell_type": "code",
   "execution_count": 6,
   "metadata": {},
   "outputs": [],
   "source": [
    "import pandas as pd"
   ]
  },
  {
   "cell_type": "code",
   "execution_count": 7,
   "metadata": {},
   "outputs": [],
   "source": [
    "dialect_df = pd.read_csv('data/clean_dataset.csv')"
   ]
  },
  {
   "cell_type": "code",
   "execution_count": 8,
   "metadata": {},
   "outputs": [
    {
     "data": {
      "text/html": [
       "<div>\n",
       "<style scoped>\n",
       "    .dataframe tbody tr th:only-of-type {\n",
       "        vertical-align: middle;\n",
       "    }\n",
       "\n",
       "    .dataframe tbody tr th {\n",
       "        vertical-align: top;\n",
       "    }\n",
       "\n",
       "    .dataframe thead th {\n",
       "        text-align: right;\n",
       "    }\n",
       "</style>\n",
       "<table border=\"1\" class=\"dataframe\">\n",
       "  <thead>\n",
       "    <tr style=\"text-align: right;\">\n",
       "      <th></th>\n",
       "      <th>id</th>\n",
       "      <th>dialect</th>\n",
       "      <th>tweet</th>\n",
       "    </tr>\n",
       "  </thead>\n",
       "  <tbody>\n",
       "    <tr>\n",
       "      <th>0</th>\n",
       "      <td>1175358310087892992</td>\n",
       "      <td>IQ</td>\n",
       "      <td>لكن بالنهايه ينتفض يغير</td>\n",
       "    </tr>\n",
       "    <tr>\n",
       "      <th>1</th>\n",
       "      <td>1175416117793349632</td>\n",
       "      <td>IQ</td>\n",
       "      <td>يعني هذا محسوب علي البشر حيونه ووحشيه وتطلبون ...</td>\n",
       "    </tr>\n",
       "    <tr>\n",
       "      <th>2</th>\n",
       "      <td>1175450108898565888</td>\n",
       "      <td>IQ</td>\n",
       "      <td>مبين من كلامه خليجي</td>\n",
       "    </tr>\n",
       "    <tr>\n",
       "      <th>3</th>\n",
       "      <td>1175471073770573824</td>\n",
       "      <td>IQ</td>\n",
       "      <td>يسلملي مرورك وروحك الحلوه</td>\n",
       "    </tr>\n",
       "    <tr>\n",
       "      <th>4</th>\n",
       "      <td>1175496913145217024</td>\n",
       "      <td>IQ</td>\n",
       "      <td>وين هل الغيبه اخ محمد</td>\n",
       "    </tr>\n",
       "    <tr>\n",
       "      <th>...</th>\n",
       "      <td>...</td>\n",
       "      <td>...</td>\n",
       "      <td>...</td>\n",
       "    </tr>\n",
       "    <tr>\n",
       "      <th>458191</th>\n",
       "      <td>1019484980282580992</td>\n",
       "      <td>BH</td>\n",
       "      <td>مبسوطين منك اللي باسطانا</td>\n",
       "    </tr>\n",
       "    <tr>\n",
       "      <th>458192</th>\n",
       "      <td>1021083283709407232</td>\n",
       "      <td>BH</td>\n",
       "      <td>والله ماينده ابش يختي</td>\n",
       "    </tr>\n",
       "    <tr>\n",
       "      <th>458193</th>\n",
       "      <td>1017477537889431552</td>\n",
       "      <td>BH</td>\n",
       "      <td>شو عملنا لك حنا تهربي مننا احنا مساكين ليش بتع...</td>\n",
       "    </tr>\n",
       "    <tr>\n",
       "      <th>458194</th>\n",
       "      <td>1022430374696239232</td>\n",
       "      <td>BH</td>\n",
       "      <td>الله يبارك فيها وبالعافيه</td>\n",
       "    </tr>\n",
       "    <tr>\n",
       "      <th>458195</th>\n",
       "      <td>1022409931029458944</td>\n",
       "      <td>BH</td>\n",
       "      <td>السحله ضيفي ي بتطلع لك سحليه</td>\n",
       "    </tr>\n",
       "  </tbody>\n",
       "</table>\n",
       "<p>458196 rows × 3 columns</p>\n",
       "</div>"
      ],
      "text/plain": [
       "                         id dialect  \\\n",
       "0       1175358310087892992      IQ   \n",
       "1       1175416117793349632      IQ   \n",
       "2       1175450108898565888      IQ   \n",
       "3       1175471073770573824      IQ   \n",
       "4       1175496913145217024      IQ   \n",
       "...                     ...     ...   \n",
       "458191  1019484980282580992      BH   \n",
       "458192  1021083283709407232      BH   \n",
       "458193  1017477537889431552      BH   \n",
       "458194  1022430374696239232      BH   \n",
       "458195  1022409931029458944      BH   \n",
       "\n",
       "                                                    tweet  \n",
       "0                                 لكن بالنهايه ينتفض يغير  \n",
       "1       يعني هذا محسوب علي البشر حيونه ووحشيه وتطلبون ...  \n",
       "2                                     مبين من كلامه خليجي  \n",
       "3                               يسلملي مرورك وروحك الحلوه  \n",
       "4                                   وين هل الغيبه اخ محمد  \n",
       "...                                                   ...  \n",
       "458191                           مبسوطين منك اللي باسطانا  \n",
       "458192                              والله ماينده ابش يختي  \n",
       "458193  شو عملنا لك حنا تهربي مننا احنا مساكين ليش بتع...  \n",
       "458194                          الله يبارك فيها وبالعافيه  \n",
       "458195                       السحله ضيفي ي بتطلع لك سحليه  \n",
       "\n",
       "[458196 rows x 3 columns]"
      ]
     },
     "execution_count": 8,
     "metadata": {},
     "output_type": "execute_result"
    }
   ],
   "source": [
    "dialect_df"
   ]
  },
  {
   "cell_type": "markdown",
   "metadata": {},
   "source": [
    "# Valence score"
   ]
  },
  {
   "cell_type": "code",
   "execution_count": 9,
   "metadata": {},
   "outputs": [],
   "source": [
    "def word_count(string):\n",
    "    counts = dict()\n",
    "    words = string.split()\n",
    "    for word in words:\n",
    "        if word in counts:\n",
    "            counts[word] += 1\n",
    "        else:\n",
    "            counts[word] = 1\n",
    "    return counts"
   ]
  },
  {
   "cell_type": "code",
   "execution_count": 10,
   "metadata": {},
   "outputs": [],
   "source": [
    "dialect_corpus = {}\n",
    "corpus_len = {}\n",
    "words_count = {}"
   ]
  },
  {
   "cell_type": "code",
   "execution_count": 11,
   "metadata": {},
   "outputs": [],
   "source": [
    "for dialect in dialect_df['dialect'].unique():\n",
    "    dialect_corpus[dialect] = ' '.join(dialect_df[dialect_df['dialect'] == dialect]['tweet'].values)\n",
    "    corpus_len[dialect] = len(dialect_corpus[dialect].split())\n",
    "    words_count[dialect] = word_count(dialect_corpus[dialect])"
   ]
  },
  {
   "cell_type": "code",
   "execution_count": 12,
   "metadata": {},
   "outputs": [
    {
     "data": {
      "text/plain": [
       "'ناس بكري قالوا طيح وشوف شكون يوقف معاك غيب وشوف شكون يسال عليك و بعد غربل و صفي مثل شعبي تونسي تونس المزيانه تهبل والله فنانه مبدعه انت ماشاء الله الله يبارك فيك يعيشك عيدكم مبروك وسنين دايمه دلوع الل'"
      ]
     },
     "execution_count": 12,
     "metadata": {},
     "output_type": "execute_result"
    }
   ],
   "source": [
    "dialect_corpus['TN'][:200]"
   ]
  },
  {
   "cell_type": "code",
   "execution_count": 13,
   "metadata": {},
   "outputs": [
    {
     "data": {
      "text/plain": [
       "{'IQ': 182802,\n",
       " 'LY': 459810,\n",
       " 'QA': 475716,\n",
       " 'PL': 513945,\n",
       " 'SY': 191913,\n",
       " 'TN': 130845,\n",
       " 'JO': 339257,\n",
       " 'MA': 145680,\n",
       " 'SA': 368834,\n",
       " 'YE': 116249,\n",
       " 'DZ': 207329,\n",
       " 'EG': 861463,\n",
       " 'LB': 376642,\n",
       " 'KW': 602386,\n",
       " 'OM': 221054,\n",
       " 'SD': 200347,\n",
       " 'AE': 364450,\n",
       " 'BH': 319816}"
      ]
     },
     "execution_count": 13,
     "metadata": {},
     "output_type": "execute_result"
    }
   ],
   "source": [
    "corpus_len"
   ]
  },
  {
   "cell_type": "code",
   "execution_count": 14,
   "metadata": {},
   "outputs": [],
   "source": [
    "def valence_score(word, dialect):\n",
    "    sum_d_score = 0\n",
    "    for d in dialect_df['dialect'].unique():\n",
    "        if word in words_count[d].keys():\n",
    "            sum_d_score += (words_count[d][word]/corpus_len[d])\n",
    "    score = 2 * ((words_count[dialect][word]/corpus_len[dialect]) / sum_d_score) - 1\n",
    "    return score * words_count[dialect][word]"
   ]
  },
  {
   "cell_type": "code",
   "execution_count": 15,
   "metadata": {},
   "outputs": [
    {
     "data": {
      "text/plain": [
       "31.171002440528905"
      ]
     },
     "execution_count": 15,
     "metadata": {},
     "output_type": "execute_result"
    }
   ],
   "source": [
    "valence_score('زملكاوي', 'EG')"
   ]
  },
  {
   "cell_type": "code",
   "execution_count": 16,
   "metadata": {},
   "outputs": [
    {
     "name": "stdout",
     "output_type": "stream",
     "text": [
      "شوش 10.729288637890024\n",
      "توه 24.854633212023153\n",
      "التونسي 51.889816078080834\n",
      "حمه 10.928258150323797\n",
      "مانيش 11.865283945319195\n",
      "الباجي 25.610212919149674\n",
      "ينجم 29.91397001052305\n",
      "التونسيه 29.95903004798538\n",
      "عادش 11.682903086342098\n",
      "شنوه 86.51723151247364\n",
      "تونسيه 59.1226926089872\n",
      "هاو 10.052668064013705\n",
      "نومني 27.0\n",
      "ماو 14.843560083062775\n",
      "موش 207.82285628256167\n",
      "الشاهد 28.501716586548753\n",
      "لشكون 12.0\n",
      "يظهرلي 18.6813651944204\n",
      "بربي 43.330227451131556\n",
      "رفايل 12.0\n",
      "هكه 19.0\n",
      "تنجم 25.111447826959726\n",
      "الطقعاوي 13.0\n",
      "نحكيو 12.792246850204599\n",
      "البنا 12.117520481252487\n",
      "عيشك 25.237127409030457\n",
      "مترشح 10.071720302168671\n",
      "جرايه 10.91328699642351\n",
      "متاعو 17.284748849941266\n",
      "شنيه 33.343529326697904\n",
      "معلول 10.097830774812756\n",
      "هايدي 13.019445799566496\n",
      "الجميعه 10.22700846750475\n",
      "تونس 416.18008600027844\n",
      "خاتر 24.0\n",
      "زاده 41.821898997366134\n",
      "يعيشك 64.78296249783904\n",
      "المايسترو 10.361681159705487\n",
      "فيسع 12.400903808908971\n",
      "هاك 16.12636274755883\n",
      "المزيانه 24.24307777641117\n",
      "ثمه 27.312275432548127\n",
      "زادا 22.32820538384382\n",
      "برشا 301.55999633467434\n",
      "شنوا 14.408148256897423\n",
      "اشكون 14.220085298916185\n",
      "ميسالش 12.155453720136252\n",
      "النهضه 20.007716555088248\n",
      "وقتلي 16.85216695447079\n",
      "فماش 22.0\n",
      "السبسي 15.849472068652537\n",
      "جوليا 64.53707975685585\n",
      "الغنايه 13.660187864946014\n",
      "نسيم 279.3319747699526\n",
      "ماكش 17.439730952104835\n",
      "بالتونسي 11.208725816949247\n",
      "برشااا 14.046552899843338\n",
      "هذاكه 38.0\n",
      "الغنوشي 24.10499103702795\n",
      "كارينهو 14.574030241665572\n",
      "توانسه 24.40561606079757\n",
      "ونسيم 14.85840452445927\n",
      "بش 72.1751027386974\n",
      "هذاكا 15.36282451581912\n",
      "تونسي 85.20014977334313\n",
      "قرطاج 35.27122628119634\n",
      "هاذم 15.898619291300568\n",
      "متاعنا 10.371690694626473\n",
      "فيتوريا 19.321271653295184\n",
      "هذيكا 16.748913381793944\n",
      "القروي 34.541697346914766\n",
      "نسوم 43.0\n",
      "عبو 13.920685177626645\n",
      "مافماش 11.0\n",
      "برشه 101.03320432516746\n",
      "غنايه 30.413144217580843\n",
      "توامتي 19.612578914717364\n",
      "ماعادش 22.475891103492007\n",
      "راو 12.674225769936907\n",
      "التوانسه 65.86757354988566\n",
      "ماغي 83.89619289711547\n",
      "متاع 45.17367133874689\n"
     ]
    }
   ],
   "source": [
    "dialect = 'TN'\n",
    "for word in set((' '.join(dialect_df[dialect_df['dialect'] == dialect]['tweet'].values)).split()):\n",
    "    if valence_score(word, dialect) > 10:\n",
    "        print(word, valence_score(word, dialect))"
   ]
  }
 ],
 "metadata": {
  "kernelspec": {
   "display_name": "Python [conda env:tf]",
   "language": "python",
   "name": "conda-env-tf-py"
  },
  "language_info": {
   "codemirror_mode": {
    "name": "ipython",
    "version": 3
   },
   "file_extension": ".py",
   "mimetype": "text/x-python",
   "name": "python",
   "nbconvert_exporter": "python",
   "pygments_lexer": "ipython3",
   "version": "3.8.12"
  }
 },
 "nbformat": 4,
 "nbformat_minor": 4
}
