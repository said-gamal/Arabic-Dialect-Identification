{
 "cells": [
  {
   "cell_type": "code",
   "execution_count": 1,
   "metadata": {},
   "outputs": [],
   "source": [
    "import pandas as pd\n",
    "from sklearn.preprocessing import LabelEncoder\n",
    "from sklearn.metrics import classification_report\n",
    "import tensorflow as tf\n",
    "from tensorflow.keras.models import *\n",
    "from tensorflow.keras.layers import *\n",
    "from tensorflow.keras.preprocessing.text import Tokenizer\n",
    "from tensorflow.keras.preprocessing.sequence import pad_sequences"
   ]
  },
  {
   "cell_type": "code",
   "execution_count": 2,
   "metadata": {},
   "outputs": [],
   "source": [
    "tf.random.set_seed(26021997)"
   ]
  },
  {
   "cell_type": "code",
   "execution_count": 3,
   "metadata": {},
   "outputs": [],
   "source": [
    "dialect_df = pd.read_csv('data/clean_dataset.csv')\n",
    "train_df = pd.read_csv('data/train_dataset.csv')\n",
    "test_df = pd.read_csv('data/test_dataset.csv')"
   ]
  },
  {
   "cell_type": "code",
   "execution_count": 4,
   "metadata": {},
   "outputs": [
    {
     "data": {
      "text/html": [
       "<div>\n",
       "<style scoped>\n",
       "    .dataframe tbody tr th:only-of-type {\n",
       "        vertical-align: middle;\n",
       "    }\n",
       "\n",
       "    .dataframe tbody tr th {\n",
       "        vertical-align: top;\n",
       "    }\n",
       "\n",
       "    .dataframe thead th {\n",
       "        text-align: right;\n",
       "    }\n",
       "</style>\n",
       "<table border=\"1\" class=\"dataframe\">\n",
       "  <thead>\n",
       "    <tr style=\"text-align: right;\">\n",
       "      <th></th>\n",
       "      <th>id</th>\n",
       "      <th>dialect</th>\n",
       "      <th>tweet</th>\n",
       "    </tr>\n",
       "  </thead>\n",
       "  <tbody>\n",
       "    <tr>\n",
       "      <th>0</th>\n",
       "      <td>1175358310087892992</td>\n",
       "      <td>IQ</td>\n",
       "      <td>لكن بالنهايه ينتفض يغير</td>\n",
       "    </tr>\n",
       "    <tr>\n",
       "      <th>1</th>\n",
       "      <td>1175416117793349632</td>\n",
       "      <td>IQ</td>\n",
       "      <td>يعني هذا محسوب علي البشر حيونه ووحشيه وتطلبون ...</td>\n",
       "    </tr>\n",
       "    <tr>\n",
       "      <th>2</th>\n",
       "      <td>1175450108898565888</td>\n",
       "      <td>IQ</td>\n",
       "      <td>مبين من كلامه خليجي</td>\n",
       "    </tr>\n",
       "    <tr>\n",
       "      <th>3</th>\n",
       "      <td>1175471073770573824</td>\n",
       "      <td>IQ</td>\n",
       "      <td>يسلملي مرورك وروحك الحلوه</td>\n",
       "    </tr>\n",
       "    <tr>\n",
       "      <th>4</th>\n",
       "      <td>1175496913145217024</td>\n",
       "      <td>IQ</td>\n",
       "      <td>وين هل الغيبه اخ محمد</td>\n",
       "    </tr>\n",
       "    <tr>\n",
       "      <th>...</th>\n",
       "      <td>...</td>\n",
       "      <td>...</td>\n",
       "      <td>...</td>\n",
       "    </tr>\n",
       "    <tr>\n",
       "      <th>458191</th>\n",
       "      <td>1019484980282580992</td>\n",
       "      <td>BH</td>\n",
       "      <td>مبسوطين منك اللي باسطانا</td>\n",
       "    </tr>\n",
       "    <tr>\n",
       "      <th>458192</th>\n",
       "      <td>1021083283709407232</td>\n",
       "      <td>BH</td>\n",
       "      <td>والله ماينده ابش يختي</td>\n",
       "    </tr>\n",
       "    <tr>\n",
       "      <th>458193</th>\n",
       "      <td>1017477537889431552</td>\n",
       "      <td>BH</td>\n",
       "      <td>شو عملنا لك حنا تهربي مننا احنا مساكين ليش بتع...</td>\n",
       "    </tr>\n",
       "    <tr>\n",
       "      <th>458194</th>\n",
       "      <td>1022430374696239232</td>\n",
       "      <td>BH</td>\n",
       "      <td>الله يبارك فيها وبالعافيه</td>\n",
       "    </tr>\n",
       "    <tr>\n",
       "      <th>458195</th>\n",
       "      <td>1022409931029458944</td>\n",
       "      <td>BH</td>\n",
       "      <td>السحله ضيفي ي بتطلع لك سحليه</td>\n",
       "    </tr>\n",
       "  </tbody>\n",
       "</table>\n",
       "<p>458196 rows × 3 columns</p>\n",
       "</div>"
      ],
      "text/plain": [
       "                         id dialect  \\\n",
       "0       1175358310087892992      IQ   \n",
       "1       1175416117793349632      IQ   \n",
       "2       1175450108898565888      IQ   \n",
       "3       1175471073770573824      IQ   \n",
       "4       1175496913145217024      IQ   \n",
       "...                     ...     ...   \n",
       "458191  1019484980282580992      BH   \n",
       "458192  1021083283709407232      BH   \n",
       "458193  1017477537889431552      BH   \n",
       "458194  1022430374696239232      BH   \n",
       "458195  1022409931029458944      BH   \n",
       "\n",
       "                                                    tweet  \n",
       "0                                 لكن بالنهايه ينتفض يغير  \n",
       "1       يعني هذا محسوب علي البشر حيونه ووحشيه وتطلبون ...  \n",
       "2                                     مبين من كلامه خليجي  \n",
       "3                               يسلملي مرورك وروحك الحلوه  \n",
       "4                                   وين هل الغيبه اخ محمد  \n",
       "...                                                   ...  \n",
       "458191                           مبسوطين منك اللي باسطانا  \n",
       "458192                              والله ماينده ابش يختي  \n",
       "458193  شو عملنا لك حنا تهربي مننا احنا مساكين ليش بتع...  \n",
       "458194                          الله يبارك فيها وبالعافيه  \n",
       "458195                       السحله ضيفي ي بتطلع لك سحليه  \n",
       "\n",
       "[458196 rows x 3 columns]"
      ]
     },
     "execution_count": 4,
     "metadata": {},
     "output_type": "execute_result"
    }
   ],
   "source": [
    "dialect_df"
   ]
  },
  {
   "cell_type": "code",
   "execution_count": 5,
   "metadata": {},
   "outputs": [],
   "source": [
    "n_vocab = 50000\n",
    "tokenizer = Tokenizer(num_words=n_vocab, lower=False)\n",
    "tokenizer.fit_on_texts(dialect_df['tweet'])"
   ]
  },
  {
   "cell_type": "code",
   "execution_count": 6,
   "metadata": {},
   "outputs": [],
   "source": [
    "train_tokenized = tokenizer.texts_to_sequences(train_df['tweet'])\n",
    "test_tokenized = tokenizer.texts_to_sequences(test_df['tweet'])"
   ]
  },
  {
   "cell_type": "code",
   "execution_count": 7,
   "metadata": {},
   "outputs": [],
   "source": [
    "max_length = 20\n",
    "X_train = pad_sequences(train_tokenized, maxlen=max_length, padding='post')\n",
    "X_test = pad_sequences(test_tokenized, maxlen=max_length, padding='post')"
   ]
  },
  {
   "cell_type": "code",
   "execution_count": 8,
   "metadata": {},
   "outputs": [
    {
     "data": {
      "text/plain": [
       "LabelEncoder()"
      ]
     },
     "execution_count": 8,
     "metadata": {},
     "output_type": "execute_result"
    }
   ],
   "source": [
    "encoder = LabelEncoder()\n",
    "encoder.fit(train_df['dialect'])"
   ]
  },
  {
   "cell_type": "code",
   "execution_count": 9,
   "metadata": {},
   "outputs": [],
   "source": [
    "y_train = encoder.transform(train_df['dialect'])\n",
    "y_test = encoder.transform(test_df['dialect'])"
   ]
  },
  {
   "cell_type": "code",
   "execution_count": 10,
   "metadata": {},
   "outputs": [],
   "source": [
    "y_df = pd.DataFrame(y_train, columns=['label'])\n",
    "class_weight = (1/y_df.label.value_counts()).to_dict()"
   ]
  },
  {
   "cell_type": "code",
   "execution_count": 11,
   "metadata": {},
   "outputs": [],
   "source": [
    "def bi_lstm():\n",
    "    sequence_input = Input(shape=(max_length,), dtype='int32')\n",
    "    embedding_layer = Embedding(output_dim=100, input_dim=n_vocab, mask_zero=True)\n",
    "    embedding_seq = embedding_layer(sequence_input)\n",
    "    dropout = Dropout(0.5)(embedding_seq)\n",
    "    bi_lstm = Bidirectional(LSTM(32))(dropout)\n",
    "    output = Dense(18, activation='softmax')(bi_lstm)\n",
    "    return Model(sequence_input, output)"
   ]
  },
  {
   "cell_type": "code",
   "execution_count": 12,
   "metadata": {},
   "outputs": [
    {
     "name": "stdout",
     "output_type": "stream",
     "text": [
      "Model: \"model\"\n",
      "_________________________________________________________________\n",
      " Layer (type)                Output Shape              Param #   \n",
      "=================================================================\n",
      " input_1 (InputLayer)        [(None, 20)]              0         \n",
      "                                                                 \n",
      " embedding (Embedding)       (None, 20, 100)           5000000   \n",
      "                                                                 \n",
      " dropout (Dropout)           (None, 20, 100)           0         \n",
      "                                                                 \n",
      " bidirectional (Bidirectiona  (None, 64)               34048     \n",
      " l)                                                              \n",
      "                                                                 \n",
      " dense (Dense)               (None, 18)                1170      \n",
      "                                                                 \n",
      "=================================================================\n",
      "Total params: 5,035,218\n",
      "Trainable params: 5,035,218\n",
      "Non-trainable params: 0\n",
      "_________________________________________________________________\n"
     ]
    }
   ],
   "source": [
    "model = bi_lstm()\n",
    "model.compile(optimizer='rmsprop', loss='sparse_categorical_crossentropy', metrics=['accuracy'])\n",
    "model.summary()"
   ]
  },
  {
   "cell_type": "code",
   "execution_count": 13,
   "metadata": {},
   "outputs": [
    {
     "name": "stdout",
     "output_type": "stream",
     "text": [
      "Epoch 1/100\n",
      "399/399 [==============================] - 70s 106ms/step - loss: 1.2731e-04 - accuracy: 0.0725 - val_loss: 2.8800 - val_accuracy: 0.1177\n",
      "Epoch 2/100\n",
      "399/399 [==============================] - 36s 91ms/step - loss: 1.2639e-04 - accuracy: 0.1251 - val_loss: 2.8031 - val_accuracy: 0.1378\n",
      "Epoch 3/100\n",
      "399/399 [==============================] - 35s 88ms/step - loss: 1.1787e-04 - accuracy: 0.1810 - val_loss: 2.4703 - val_accuracy: 0.2218\n",
      "Epoch 4/100\n",
      "399/399 [==============================] - 34s 85ms/step - loss: 1.0625e-04 - accuracy: 0.2323 - val_loss: 2.2652 - val_accuracy: 0.2659\n",
      "Epoch 5/100\n",
      "399/399 [==============================] - 33s 83ms/step - loss: 9.9077e-05 - accuracy: 0.2746 - val_loss: 2.1478 - val_accuracy: 0.3042\n",
      "Epoch 6/100\n",
      "399/399 [==============================] - 35s 87ms/step - loss: 9.3670e-05 - accuracy: 0.3127 - val_loss: 2.0616 - val_accuracy: 0.3382\n",
      "Epoch 7/100\n",
      "399/399 [==============================] - 36s 89ms/step - loss: 8.9287e-05 - accuracy: 0.3448 - val_loss: 1.9680 - val_accuracy: 0.3721\n",
      "Epoch 8/100\n",
      "399/399 [==============================] - 39s 96ms/step - loss: 8.5728e-05 - accuracy: 0.3708 - val_loss: 1.9164 - val_accuracy: 0.3910\n",
      "Epoch 9/100\n",
      "399/399 [==============================] - 42s 106ms/step - loss: 8.2751e-05 - accuracy: 0.3908 - val_loss: 1.8739 - val_accuracy: 0.4027\n",
      "Epoch 10/100\n",
      "399/399 [==============================] - 43s 108ms/step - loss: 8.0293e-05 - accuracy: 0.4084 - val_loss: 1.8487 - val_accuracy: 0.4123\n",
      "Epoch 11/100\n",
      "399/399 [==============================] - 43s 108ms/step - loss: 7.8132e-05 - accuracy: 0.4232 - val_loss: 1.7982 - val_accuracy: 0.4275\n",
      "Epoch 12/100\n",
      "399/399 [==============================] - 42s 105ms/step - loss: 7.6297e-05 - accuracy: 0.4358 - val_loss: 1.7854 - val_accuracy: 0.4351\n",
      "Epoch 13/100\n",
      "399/399 [==============================] - 47s 117ms/step - loss: 7.4546e-05 - accuracy: 0.4486 - val_loss: 1.7644 - val_accuracy: 0.4390\n",
      "Epoch 14/100\n",
      "399/399 [==============================] - 47s 118ms/step - loss: 7.3057e-05 - accuracy: 0.4580 - val_loss: 1.7446 - val_accuracy: 0.4481\n",
      "Epoch 15/100\n",
      "399/399 [==============================] - 45s 113ms/step - loss: 7.1571e-05 - accuracy: 0.4698 - val_loss: 1.7291 - val_accuracy: 0.4519\n",
      "Epoch 16/100\n",
      "399/399 [==============================] - 42s 106ms/step - loss: 7.0192e-05 - accuracy: 0.4785 - val_loss: 1.7192 - val_accuracy: 0.4567\n",
      "Epoch 17/100\n",
      "399/399 [==============================] - 40s 101ms/step - loss: 6.8979e-05 - accuracy: 0.4866 - val_loss: 1.6980 - val_accuracy: 0.4634\n",
      "Epoch 18/100\n",
      "399/399 [==============================] - 47s 119ms/step - loss: 6.7794e-05 - accuracy: 0.4955 - val_loss: 1.6985 - val_accuracy: 0.4624\n",
      "Epoch 19/100\n",
      "399/399 [==============================] - 47s 118ms/step - loss: 6.6593e-05 - accuracy: 0.5038 - val_loss: 1.6933 - val_accuracy: 0.4668\n",
      "Epoch 20/100\n",
      "399/399 [==============================] - 46s 115ms/step - loss: 6.5506e-05 - accuracy: 0.5109 - val_loss: 1.6683 - val_accuracy: 0.4755\n",
      "Epoch 21/100\n",
      "399/399 [==============================] - 47s 116ms/step - loss: 6.4526e-05 - accuracy: 0.5178 - val_loss: 1.6721 - val_accuracy: 0.4745\n",
      "Epoch 22/100\n",
      "399/399 [==============================] - 47s 119ms/step - loss: 6.3578e-05 - accuracy: 0.5244 - val_loss: 1.6633 - val_accuracy: 0.4785\n",
      "Epoch 23/100\n",
      "399/399 [==============================] - 45s 114ms/step - loss: 6.2592e-05 - accuracy: 0.5297 - val_loss: 1.6572 - val_accuracy: 0.4815\n",
      "Epoch 24/100\n",
      "399/399 [==============================] - 48s 119ms/step - loss: 6.1772e-05 - accuracy: 0.5368 - val_loss: 1.6565 - val_accuracy: 0.4825\n",
      "Epoch 25/100\n",
      "399/399 [==============================] - 47s 117ms/step - loss: 6.0847e-05 - accuracy: 0.5422 - val_loss: 1.6523 - val_accuracy: 0.4831\n",
      "Epoch 26/100\n",
      "399/399 [==============================] - 45s 112ms/step - loss: 6.0086e-05 - accuracy: 0.5472 - val_loss: 1.6556 - val_accuracy: 0.4839\n",
      "Epoch 27/100\n",
      "399/399 [==============================] - 48s 120ms/step - loss: 5.9350e-05 - accuracy: 0.5531 - val_loss: 1.6413 - val_accuracy: 0.4876\n",
      "Epoch 28/100\n",
      "399/399 [==============================] - 49s 123ms/step - loss: 5.8584e-05 - accuracy: 0.5581 - val_loss: 1.6369 - val_accuracy: 0.4926\n",
      "Epoch 29/100\n",
      "399/399 [==============================] - 38s 93ms/step - loss: 5.7902e-05 - accuracy: 0.5630 - val_loss: 1.6395 - val_accuracy: 0.4922\n",
      "Epoch 30/100\n",
      "399/399 [==============================] - 45s 113ms/step - loss: 5.7177e-05 - accuracy: 0.5663 - val_loss: 1.6344 - val_accuracy: 0.4948\n",
      "Epoch 31/100\n",
      "399/399 [==============================] - 48s 120ms/step - loss: 5.6500e-05 - accuracy: 0.5719 - val_loss: 1.6432 - val_accuracy: 0.4940\n",
      "Epoch 32/100\n",
      "399/399 [==============================] - 45s 114ms/step - loss: 5.5908e-05 - accuracy: 0.5750 - val_loss: 1.6472 - val_accuracy: 0.4931\n",
      "Epoch 33/100\n",
      "399/399 [==============================] - 49s 122ms/step - loss: 5.5319e-05 - accuracy: 0.5792 - val_loss: 1.6485 - val_accuracy: 0.4921\n",
      "Epoch 34/100\n",
      "399/399 [==============================] - 50s 124ms/step - loss: 5.4701e-05 - accuracy: 0.5829 - val_loss: 1.6382 - val_accuracy: 0.4956\n",
      "Epoch 35/100\n",
      "399/399 [==============================] - 47s 118ms/step - loss: 5.4103e-05 - accuracy: 0.5877 - val_loss: 1.6522 - val_accuracy: 0.4935\n"
     ]
    }
   ],
   "source": [
    "early_stopping = tf.keras.callbacks.EarlyStopping(monitor=\"val_loss\", patience=5, restore_best_weights=True)\n",
    "history = model.fit(X_train, y_train, validation_data=(X_test, y_test),\n",
    "                    epochs=100, batch_size=1024, class_weight=class_weight, callbacks=[early_stopping])"
   ]
  },
  {
   "cell_type": "code",
   "execution_count": 14,
   "metadata": {},
   "outputs": [
    {
     "data": {
      "text/plain": [
       "<AxesSubplot:>"
      ]
     },
     "execution_count": 14,
     "metadata": {},
     "output_type": "execute_result"
    },
    {
     "data": {
      "image/png": "[encoded data removed]",
      "text/plain": [
       "<Figure size 720x720 with 1 Axes>"
      ]
     },
     "metadata": {
      "needs_background": "light"
     },
     "output_type": "display_data"
    }
   ],
   "source": [
    "acc_dict = dict()\n",
    "acc_dict['train_accuracy'] = history.history['accuracy']\n",
    "acc_dict['test_accuracy'] = history.history['val_accuracy']\n",
    "pd.DataFrame(acc_dict).plot(figsize=(10, 10))"
   ]
  }
 ],
 "metadata": {
  "kernelspec": {
   "display_name": "Python [conda env:tf]",
   "language": "python",
   "name": "conda-env-tf-py"
  },
  "language_info": {
   "codemirror_mode": {
    "name": "ipython",
    "version": 3
   },
   "file_extension": ".py",
   "mimetype": "text/x-python",
   "name": "python",
   "nbconvert_exporter": "python",
   "pygments_lexer": "ipython3",
   "version": "3.8.12"
  }
 },
 "nbformat": 4,
 "nbformat_minor": 4
}
