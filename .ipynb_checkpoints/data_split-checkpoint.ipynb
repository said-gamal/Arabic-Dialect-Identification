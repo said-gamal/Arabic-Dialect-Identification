{
 "cells": [
  {
   "cell_type": "code",
   "execution_count": 1,
   "metadata": {},
   "outputs": [],
   "source": [
    "import pandas as pd\n",
    "from sklearn.model_selection import train_test_split"
   ]
  },
  {
   "cell_type": "code",
   "execution_count": 2,
   "metadata": {},
   "outputs": [],
   "source": [
    "dialect_df = pd.read_csv('data/clean_dataset.csv')"
   ]
  },
  {
   "cell_type": "code",
   "execution_count": 3,
   "metadata": {},
   "outputs": [
    {
     "data": {
      "text/html": [
       "<div>\n",
       "<style scoped>\n",
       "    .dataframe tbody tr th:only-of-type {\n",
       "        vertical-align: middle;\n",
       "    }\n",
       "\n",
       "    .dataframe tbody tr th {\n",
       "        vertical-align: top;\n",
       "    }\n",
       "\n",
       "    .dataframe thead th {\n",
       "        text-align: right;\n",
       "    }\n",
       "</style>\n",
       "<table border=\"1\" class=\"dataframe\">\n",
       "  <thead>\n",
       "    <tr style=\"text-align: right;\">\n",
       "      <th></th>\n",
       "      <th>id</th>\n",
       "      <th>dialect</th>\n",
       "      <th>tweet</th>\n",
       "    </tr>\n",
       "  </thead>\n",
       "  <tbody>\n",
       "    <tr>\n",
       "      <th>0</th>\n",
       "      <td>1175358310087892992</td>\n",
       "      <td>IQ</td>\n",
       "      <td>لكن بالنهايه ينتفض يغير</td>\n",
       "    </tr>\n",
       "    <tr>\n",
       "      <th>1</th>\n",
       "      <td>1175416117793349632</td>\n",
       "      <td>IQ</td>\n",
       "      <td>يعني هذا محسوب علي البشر حيونه ووحشيه وتطلبون ...</td>\n",
       "    </tr>\n",
       "    <tr>\n",
       "      <th>2</th>\n",
       "      <td>1175450108898565888</td>\n",
       "      <td>IQ</td>\n",
       "      <td>مبين من كلامه خليجي</td>\n",
       "    </tr>\n",
       "    <tr>\n",
       "      <th>3</th>\n",
       "      <td>1175471073770573824</td>\n",
       "      <td>IQ</td>\n",
       "      <td>يسلملي مرورك وروحك الحلوه</td>\n",
       "    </tr>\n",
       "    <tr>\n",
       "      <th>4</th>\n",
       "      <td>1175496913145217024</td>\n",
       "      <td>IQ</td>\n",
       "      <td>وين هل الغيبه اخ محمد</td>\n",
       "    </tr>\n",
       "    <tr>\n",
       "      <th>...</th>\n",
       "      <td>...</td>\n",
       "      <td>...</td>\n",
       "      <td>...</td>\n",
       "    </tr>\n",
       "    <tr>\n",
       "      <th>458191</th>\n",
       "      <td>1019484980282580992</td>\n",
       "      <td>BH</td>\n",
       "      <td>مبسوطين منك اللي باسطانا</td>\n",
       "    </tr>\n",
       "    <tr>\n",
       "      <th>458192</th>\n",
       "      <td>1021083283709407232</td>\n",
       "      <td>BH</td>\n",
       "      <td>والله ماينده ابش يختي</td>\n",
       "    </tr>\n",
       "    <tr>\n",
       "      <th>458193</th>\n",
       "      <td>1017477537889431552</td>\n",
       "      <td>BH</td>\n",
       "      <td>شو عملنا لك حنا تهربي مننا احنا مساكين ليش بتع...</td>\n",
       "    </tr>\n",
       "    <tr>\n",
       "      <th>458194</th>\n",
       "      <td>1022430374696239232</td>\n",
       "      <td>BH</td>\n",
       "      <td>الله يبارك فيها وبالعافيه</td>\n",
       "    </tr>\n",
       "    <tr>\n",
       "      <th>458195</th>\n",
       "      <td>1022409931029458944</td>\n",
       "      <td>BH</td>\n",
       "      <td>السحله ضيفي ي بتطلع لك سحليه</td>\n",
       "    </tr>\n",
       "  </tbody>\n",
       "</table>\n",
       "<p>458196 rows × 3 columns</p>\n",
       "</div>"
      ],
      "text/plain": [
       "                         id dialect  \\\n",
       "0       1175358310087892992      IQ   \n",
       "1       1175416117793349632      IQ   \n",
       "2       1175450108898565888      IQ   \n",
       "3       1175471073770573824      IQ   \n",
       "4       1175496913145217024      IQ   \n",
       "...                     ...     ...   \n",
       "458191  1019484980282580992      BH   \n",
       "458192  1021083283709407232      BH   \n",
       "458193  1017477537889431552      BH   \n",
       "458194  1022430374696239232      BH   \n",
       "458195  1022409931029458944      BH   \n",
       "\n",
       "                                                    tweet  \n",
       "0                                 لكن بالنهايه ينتفض يغير  \n",
       "1       يعني هذا محسوب علي البشر حيونه ووحشيه وتطلبون ...  \n",
       "2                                     مبين من كلامه خليجي  \n",
       "3                               يسلملي مرورك وروحك الحلوه  \n",
       "4                                   وين هل الغيبه اخ محمد  \n",
       "...                                                   ...  \n",
       "458191                           مبسوطين منك اللي باسطانا  \n",
       "458192                              والله ماينده ابش يختي  \n",
       "458193  شو عملنا لك حنا تهربي مننا احنا مساكين ليش بتع...  \n",
       "458194                          الله يبارك فيها وبالعافيه  \n",
       "458195                       السحله ضيفي ي بتطلع لك سحليه  \n",
       "\n",
       "[458196 rows x 3 columns]"
      ]
     },
     "execution_count": 3,
     "metadata": {},
     "output_type": "execute_result"
    }
   ],
   "source": [
    "dialect_df"
   ]
  },
  {
   "cell_type": "code",
   "execution_count": 4,
   "metadata": {},
   "outputs": [],
   "source": [
    "train_df, test_df = train_test_split(dialect_df, test_size=50000, stratify=dialect_df['dialect'], random_state=26021997)"
   ]
  },
  {
   "cell_type": "code",
   "execution_count": 5,
   "metadata": {},
   "outputs": [
    {
     "data": {
      "text/html": [
       "<div>\n",
       "<style scoped>\n",
       "    .dataframe tbody tr th:only-of-type {\n",
       "        vertical-align: middle;\n",
       "    }\n",
       "\n",
       "    .dataframe tbody tr th {\n",
       "        vertical-align: top;\n",
       "    }\n",
       "\n",
       "    .dataframe thead th {\n",
       "        text-align: right;\n",
       "    }\n",
       "</style>\n",
       "<table border=\"1\" class=\"dataframe\">\n",
       "  <thead>\n",
       "    <tr style=\"text-align: right;\">\n",
       "      <th></th>\n",
       "      <th>id</th>\n",
       "      <th>dialect</th>\n",
       "      <th>tweet</th>\n",
       "    </tr>\n",
       "  </thead>\n",
       "  <tbody>\n",
       "    <tr>\n",
       "      <th>237882</th>\n",
       "      <td>1186031522786230272</td>\n",
       "      <td>DZ</td>\n",
       "      <td>ايه راني بعتهالو ماخرجتش عندك</td>\n",
       "    </tr>\n",
       "    <tr>\n",
       "      <th>9545</th>\n",
       "      <td>1102632838019592192</td>\n",
       "      <td>IQ</td>\n",
       "      <td>شيء مو كيفه يسويه</td>\n",
       "    </tr>\n",
       "    <tr>\n",
       "      <th>148050</th>\n",
       "      <td>986991775234646016</td>\n",
       "      <td>TN</td>\n",
       "      <td>معلش حبيبتي هو اكيد مقدر ولكن له اسبابه واكيد ...</td>\n",
       "    </tr>\n",
       "    <tr>\n",
       "      <th>227547</th>\n",
       "      <td>825136678855643136</td>\n",
       "      <td>YE</td>\n",
       "      <td>ماش ما عجبني قالو يخوف و طلع عادي</td>\n",
       "    </tr>\n",
       "    <tr>\n",
       "      <th>133914</th>\n",
       "      <td>983055547980185600</td>\n",
       "      <td>SY</td>\n",
       "      <td>الف نعمه انو فش شيعه عندكم احمدو ربكم</td>\n",
       "    </tr>\n",
       "    <tr>\n",
       "      <th>...</th>\n",
       "      <td>...</td>\n",
       "      <td>...</td>\n",
       "      <td>...</td>\n",
       "    </tr>\n",
       "    <tr>\n",
       "      <th>98962</th>\n",
       "      <td>1169192062559891712</td>\n",
       "      <td>PL</td>\n",
       "      <td>انا وانا ماشيه بالشارع لحالي</td>\n",
       "    </tr>\n",
       "    <tr>\n",
       "      <th>135555</th>\n",
       "      <td>1134056408608137216</td>\n",
       "      <td>SY</td>\n",
       "      <td>الشغل مش عيب بس هالشي فعلا محزن وكثير اسباب مح...</td>\n",
       "    </tr>\n",
       "    <tr>\n",
       "      <th>380081</th>\n",
       "      <td>1119776894612848640</td>\n",
       "      <td>OM</td>\n",
       "      <td>امين يارب العالمين الله يرحمهم ويجمعكم واياهم ...</td>\n",
       "    </tr>\n",
       "    <tr>\n",
       "      <th>293353</th>\n",
       "      <td>1091109679617503232</td>\n",
       "      <td>EG</td>\n",
       "      <td>الواحد يغيب مهما يغيب عن المخروب ده ويرجع يلاق...</td>\n",
       "    </tr>\n",
       "    <tr>\n",
       "      <th>48108</th>\n",
       "      <td>1073375200253800448</td>\n",
       "      <td>LY</td>\n",
       "      <td>اكيد في رقم اشاري والخطا المطبعي ماتخافي منه و...</td>\n",
       "    </tr>\n",
       "  </tbody>\n",
       "</table>\n",
       "<p>408196 rows × 3 columns</p>\n",
       "</div>"
      ],
      "text/plain": [
       "                         id dialect  \\\n",
       "237882  1186031522786230272      DZ   \n",
       "9545    1102632838019592192      IQ   \n",
       "148050   986991775234646016      TN   \n",
       "227547   825136678855643136      YE   \n",
       "133914   983055547980185600      SY   \n",
       "...                     ...     ...   \n",
       "98962   1169192062559891712      PL   \n",
       "135555  1134056408608137216      SY   \n",
       "380081  1119776894612848640      OM   \n",
       "293353  1091109679617503232      EG   \n",
       "48108   1073375200253800448      LY   \n",
       "\n",
       "                                                    tweet  \n",
       "237882                      ايه راني بعتهالو ماخرجتش عندك  \n",
       "9545                                    شيء مو كيفه يسويه  \n",
       "148050  معلش حبيبتي هو اكيد مقدر ولكن له اسبابه واكيد ...  \n",
       "227547                  ماش ما عجبني قالو يخوف و طلع عادي  \n",
       "133914              الف نعمه انو فش شيعه عندكم احمدو ربكم  \n",
       "...                                                   ...  \n",
       "98962                        انا وانا ماشيه بالشارع لحالي  \n",
       "135555  الشغل مش عيب بس هالشي فعلا محزن وكثير اسباب مح...  \n",
       "380081  امين يارب العالمين الله يرحمهم ويجمعكم واياهم ...  \n",
       "293353  الواحد يغيب مهما يغيب عن المخروب ده ويرجع يلاق...  \n",
       "48108   اكيد في رقم اشاري والخطا المطبعي ماتخافي منه و...  \n",
       "\n",
       "[408196 rows x 3 columns]"
      ]
     },
     "execution_count": 5,
     "metadata": {},
     "output_type": "execute_result"
    }
   ],
   "source": [
    "train_df"
   ]
  },
  {
   "cell_type": "code",
   "execution_count": 6,
   "metadata": {},
   "outputs": [
    {
     "data": {
      "text/plain": [
       "<AxesSubplot:>"
      ]
     },
     "execution_count": 6,
     "metadata": {},
     "output_type": "execute_result"
    },
    {
     "data": {
      "image/png": "[encoded data removed]",
      "text/plain": [
       "<Figure size 432x288 with 1 Axes>"
      ]
     },
     "metadata": {
      "needs_background": "light"
     },
     "output_type": "display_data"
    }
   ],
   "source": [
    "train_df['dialect'].value_counts().plot(kind='bar')"
   ]
  },
  {
   "cell_type": "code",
   "execution_count": 7,
   "metadata": {
    "scrolled": false
   },
   "outputs": [
    {
     "data": {
      "text/html": [
       "<div>\n",
       "<style scoped>\n",
       "    .dataframe tbody tr th:only-of-type {\n",
       "        vertical-align: middle;\n",
       "    }\n",
       "\n",
       "    .dataframe tbody tr th {\n",
       "        vertical-align: top;\n",
       "    }\n",
       "\n",
       "    .dataframe thead th {\n",
       "        text-align: right;\n",
       "    }\n",
       "</style>\n",
       "<table border=\"1\" class=\"dataframe\">\n",
       "  <thead>\n",
       "    <tr style=\"text-align: right;\">\n",
       "      <th></th>\n",
       "      <th>id</th>\n",
       "      <th>dialect</th>\n",
       "      <th>tweet</th>\n",
       "    </tr>\n",
       "  </thead>\n",
       "  <tbody>\n",
       "    <tr>\n",
       "      <th>242663</th>\n",
       "      <td>948860366372601984</td>\n",
       "      <td>DZ</td>\n",
       "      <td>ههه للاسف ما اعرفك بس شخص راقي</td>\n",
       "    </tr>\n",
       "    <tr>\n",
       "      <th>410333</th>\n",
       "      <td>1152585801865338752</td>\n",
       "      <td>AE</td>\n",
       "      <td>وام حمد لما عرفت السالفه قررت تفضح ولدها في ال...</td>\n",
       "    </tr>\n",
       "    <tr>\n",
       "      <th>260543</th>\n",
       "      <td>901815108766224384</td>\n",
       "      <td>EG</td>\n",
       "      <td>كوم هتيم الوطن اهم الثار لا بيرد المقتول للحيا...</td>\n",
       "    </tr>\n",
       "    <tr>\n",
       "      <th>1029</th>\n",
       "      <td>1105118511163162624</td>\n",
       "      <td>IQ</td>\n",
       "      <td>سطحي شعاري بالحياه حتي صديق مقرب ماعندي بس معارف</td>\n",
       "    </tr>\n",
       "    <tr>\n",
       "      <th>365835</th>\n",
       "      <td>725062587948347392</td>\n",
       "      <td>KW</td>\n",
       "      <td>خطا بيلغيري بقرايه اللعب اصابه سيلفا حط دي برو...</td>\n",
       "    </tr>\n",
       "    <tr>\n",
       "      <th>...</th>\n",
       "      <td>...</td>\n",
       "      <td>...</td>\n",
       "      <td>...</td>\n",
       "    </tr>\n",
       "    <tr>\n",
       "      <th>452325</th>\n",
       "      <td>964237433389899776</td>\n",
       "      <td>BH</td>\n",
       "      <td>اذا خان او استغفلني ما اتردد وله دقيقه في انها...</td>\n",
       "    </tr>\n",
       "    <tr>\n",
       "      <th>46812</th>\n",
       "      <td>1173001622491979776</td>\n",
       "      <td>LY</td>\n",
       "      <td>عاجبني فيك ديما صريح وهذا من حق الصاحب علي صاحبه</td>\n",
       "    </tr>\n",
       "    <tr>\n",
       "      <th>328597</th>\n",
       "      <td>943617132230791168</td>\n",
       "      <td>LB</td>\n",
       "      <td>شو بيشتغل اميل رحمه</td>\n",
       "    </tr>\n",
       "    <tr>\n",
       "      <th>81457</th>\n",
       "      <td>1176586297617669888</td>\n",
       "      <td>QA</td>\n",
       "      <td>بتموت هي قبل تجيب ال</td>\n",
       "    </tr>\n",
       "    <tr>\n",
       "      <th>287918</th>\n",
       "      <td>726453363999657984</td>\n",
       "      <td>EG</td>\n",
       "      <td>يارب ادينا القوه من عندك تخلينا نكمل تمثيل ف ا...</td>\n",
       "    </tr>\n",
       "  </tbody>\n",
       "</table>\n",
       "<p>50000 rows × 3 columns</p>\n",
       "</div>"
      ],
      "text/plain": [
       "                         id dialect  \\\n",
       "242663   948860366372601984      DZ   \n",
       "410333  1152585801865338752      AE   \n",
       "260543   901815108766224384      EG   \n",
       "1029    1105118511163162624      IQ   \n",
       "365835   725062587948347392      KW   \n",
       "...                     ...     ...   \n",
       "452325   964237433389899776      BH   \n",
       "46812   1173001622491979776      LY   \n",
       "328597   943617132230791168      LB   \n",
       "81457   1176586297617669888      QA   \n",
       "287918   726453363999657984      EG   \n",
       "\n",
       "                                                    tweet  \n",
       "242663                     ههه للاسف ما اعرفك بس شخص راقي  \n",
       "410333  وام حمد لما عرفت السالفه قررت تفضح ولدها في ال...  \n",
       "260543  كوم هتيم الوطن اهم الثار لا بيرد المقتول للحيا...  \n",
       "1029     سطحي شعاري بالحياه حتي صديق مقرب ماعندي بس معارف  \n",
       "365835  خطا بيلغيري بقرايه اللعب اصابه سيلفا حط دي برو...  \n",
       "...                                                   ...  \n",
       "452325  اذا خان او استغفلني ما اتردد وله دقيقه في انها...  \n",
       "46812    عاجبني فيك ديما صريح وهذا من حق الصاحب علي صاحبه  \n",
       "328597                                شو بيشتغل اميل رحمه  \n",
       "81457                                بتموت هي قبل تجيب ال  \n",
       "287918  يارب ادينا القوه من عندك تخلينا نكمل تمثيل ف ا...  \n",
       "\n",
       "[50000 rows x 3 columns]"
      ]
     },
     "execution_count": 7,
     "metadata": {},
     "output_type": "execute_result"
    }
   ],
   "source": [
    "test_df"
   ]
  },
  {
   "cell_type": "code",
   "execution_count": 8,
   "metadata": {},
   "outputs": [
    {
     "data": {
      "text/plain": [
       "<AxesSubplot:>"
      ]
     },
     "execution_count": 8,
     "metadata": {},
     "output_type": "execute_result"
    },
    {
     "data": {
      "image/png": "[encoded data removed]",
      "text/plain": [
       "<Figure size 432x288 with 1 Axes>"
      ]
     },
     "metadata": {
      "needs_background": "light"
     },
     "output_type": "display_data"
    }
   ],
   "source": [
    "test_df['dialect'].value_counts().plot(kind='bar')"
   ]
  },
  {
   "cell_type": "markdown",
   "metadata": {},
   "source": [
    "# Save train and test datasets"
   ]
  },
  {
   "cell_type": "code",
   "execution_count": 9,
   "metadata": {},
   "outputs": [],
   "source": [
    "train_df.to_csv('data/train_dataset.csv', index=False)"
   ]
  },
  {
   "cell_type": "code",
   "execution_count": 10,
   "metadata": {},
   "outputs": [],
   "source": [
    "test_df.to_csv('data/test_dataset.csv', index=False)"
   ]
  }
 ],
 "metadata": {
  "kernelspec": {
   "display_name": "Python [conda env:tf]",
   "language": "python",
   "name": "conda-env-tf-py"
  },
  "language_info": {
   "codemirror_mode": {
    "name": "ipython",
    "version": 3
   },
   "file_extension": ".py",
   "mimetype": "text/x-python",
   "name": "python",
   "nbconvert_exporter": "python",
   "pygments_lexer": "ipython3",
   "version": "3.8.12"
  }
 },
 "nbformat": 4,
 "nbformat_minor": 4
}
