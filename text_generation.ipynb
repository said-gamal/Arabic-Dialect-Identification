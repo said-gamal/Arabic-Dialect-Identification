{
 "cells": [
  {
   "cell_type": "code",
   "execution_count": 1,
   "metadata": {},
   "outputs": [],
   "source": [
    "import pandas as pd"
   ]
  },
  {
   "cell_type": "code",
   "execution_count": 2,
   "metadata": {},
   "outputs": [],
   "source": [
    "dialect_df = pd.read_csv('data/clean_dataset.csv')"
   ]
  },
  {
   "cell_type": "code",
   "execution_count": 3,
   "metadata": {},
   "outputs": [
    {
     "data": {
      "text/html": [
       "<div>\n",
       "<style scoped>\n",
       "    .dataframe tbody tr th:only-of-type {\n",
       "        vertical-align: middle;\n",
       "    }\n",
       "\n",
       "    .dataframe tbody tr th {\n",
       "        vertical-align: top;\n",
       "    }\n",
       "\n",
       "    .dataframe thead th {\n",
       "        text-align: right;\n",
       "    }\n",
       "</style>\n",
       "<table border=\"1\" class=\"dataframe\">\n",
       "  <thead>\n",
       "    <tr style=\"text-align: right;\">\n",
       "      <th></th>\n",
       "      <th>id</th>\n",
       "      <th>dialect</th>\n",
       "      <th>tweet</th>\n",
       "    </tr>\n",
       "  </thead>\n",
       "  <tbody>\n",
       "    <tr>\n",
       "      <th>0</th>\n",
       "      <td>1175358310087892992</td>\n",
       "      <td>IQ</td>\n",
       "      <td>لكن بالنهايه ينتفض يغير</td>\n",
       "    </tr>\n",
       "    <tr>\n",
       "      <th>1</th>\n",
       "      <td>1175416117793349632</td>\n",
       "      <td>IQ</td>\n",
       "      <td>يعني هذا محسوب علي البشر حيونه ووحشيه وتطلبون ...</td>\n",
       "    </tr>\n",
       "    <tr>\n",
       "      <th>2</th>\n",
       "      <td>1175450108898565888</td>\n",
       "      <td>IQ</td>\n",
       "      <td>مبين من كلامه خليجي</td>\n",
       "    </tr>\n",
       "    <tr>\n",
       "      <th>3</th>\n",
       "      <td>1175471073770573824</td>\n",
       "      <td>IQ</td>\n",
       "      <td>يسلملي مرورك وروحك الحلوه</td>\n",
       "    </tr>\n",
       "    <tr>\n",
       "      <th>4</th>\n",
       "      <td>1175496913145217024</td>\n",
       "      <td>IQ</td>\n",
       "      <td>وين هل الغيبه اخ محمد</td>\n",
       "    </tr>\n",
       "    <tr>\n",
       "      <th>...</th>\n",
       "      <td>...</td>\n",
       "      <td>...</td>\n",
       "      <td>...</td>\n",
       "    </tr>\n",
       "    <tr>\n",
       "      <th>458191</th>\n",
       "      <td>1019484980282580992</td>\n",
       "      <td>BH</td>\n",
       "      <td>مبسوطين منك اللي باسطانا</td>\n",
       "    </tr>\n",
       "    <tr>\n",
       "      <th>458192</th>\n",
       "      <td>1021083283709407232</td>\n",
       "      <td>BH</td>\n",
       "      <td>والله ماينده ابش يختي</td>\n",
       "    </tr>\n",
       "    <tr>\n",
       "      <th>458193</th>\n",
       "      <td>1017477537889431552</td>\n",
       "      <td>BH</td>\n",
       "      <td>شو عملنا لك حنا تهربي مننا احنا مساكين ليش بتع...</td>\n",
       "    </tr>\n",
       "    <tr>\n",
       "      <th>458194</th>\n",
       "      <td>1022430374696239232</td>\n",
       "      <td>BH</td>\n",
       "      <td>الله يبارك فيها وبالعافيه</td>\n",
       "    </tr>\n",
       "    <tr>\n",
       "      <th>458195</th>\n",
       "      <td>1022409931029458944</td>\n",
       "      <td>BH</td>\n",
       "      <td>السحله ضيفي ي بتطلع لك سحليه</td>\n",
       "    </tr>\n",
       "  </tbody>\n",
       "</table>\n",
       "<p>458196 rows × 3 columns</p>\n",
       "</div>"
      ],
      "text/plain": [
       "                         id dialect  \\\n",
       "0       1175358310087892992      IQ   \n",
       "1       1175416117793349632      IQ   \n",
       "2       1175450108898565888      IQ   \n",
       "3       1175471073770573824      IQ   \n",
       "4       1175496913145217024      IQ   \n",
       "...                     ...     ...   \n",
       "458191  1019484980282580992      BH   \n",
       "458192  1021083283709407232      BH   \n",
       "458193  1017477537889431552      BH   \n",
       "458194  1022430374696239232      BH   \n",
       "458195  1022409931029458944      BH   \n",
       "\n",
       "                                                    tweet  \n",
       "0                                 لكن بالنهايه ينتفض يغير  \n",
       "1       يعني هذا محسوب علي البشر حيونه ووحشيه وتطلبون ...  \n",
       "2                                     مبين من كلامه خليجي  \n",
       "3                               يسلملي مرورك وروحك الحلوه  \n",
       "4                                   وين هل الغيبه اخ محمد  \n",
       "...                                                   ...  \n",
       "458191                           مبسوطين منك اللي باسطانا  \n",
       "458192                              والله ماينده ابش يختي  \n",
       "458193  شو عملنا لك حنا تهربي مننا احنا مساكين ليش بتع...  \n",
       "458194                          الله يبارك فيها وبالعافيه  \n",
       "458195                       السحله ضيفي ي بتطلع لك سحليه  \n",
       "\n",
       "[458196 rows x 3 columns]"
      ]
     },
     "execution_count": 3,
     "metadata": {},
     "output_type": "execute_result"
    }
   ],
   "source": [
    "dialect_df"
   ]
  },
  {
   "cell_type": "markdown",
   "metadata": {},
   "source": [
    "# Check data imbalance"
   ]
  },
  {
   "cell_type": "code",
   "execution_count": 4,
   "metadata": {},
   "outputs": [
    {
     "data": {
      "text/plain": [
       "EG    57636\n",
       "PL    43742\n",
       "KW    42109\n",
       "LY    36499\n",
       "QA    31069\n",
       "JO    27921\n",
       "LB    27617\n",
       "SA    26831\n",
       "AE    26296\n",
       "BH    26292\n",
       "OM    19116\n",
       "SY    16242\n",
       "DZ    16183\n",
       "IQ    15497\n",
       "SD    14434\n",
       "MA    11539\n",
       "YE     9927\n",
       "TN     9246\n",
       "Name: dialect, dtype: int64"
      ]
     },
     "execution_count": 4,
     "metadata": {},
     "output_type": "execute_result"
    }
   ],
   "source": [
    "dialect_df['dialect'].value_counts()"
   ]
  },
  {
   "cell_type": "code",
   "execution_count": 5,
   "metadata": {},
   "outputs": [
    {
     "data": {
      "text/plain": [
       "<AxesSubplot:>"
      ]
     },
     "execution_count": 5,
     "metadata": {},
     "output_type": "execute_result"
    },
    {
     "data": {
      "image/png": "[encoded data removed]",
      "text/plain": [
       "<Figure size 432x288 with 1 Axes>"
      ]
     },
     "metadata": {
      "needs_background": "light"
     },
     "output_type": "display_data"
    }
   ],
   "source": [
    "dialect_df['dialect'].value_counts().plot(kind='bar')"
   ]
  },
  {
   "cell_type": "markdown",
   "metadata": {},
   "source": [
    "# Generate text from tweets to make data balanced"
   ]
  },
  {
   "cell_type": "code",
   "execution_count": 6,
   "metadata": {},
   "outputs": [],
   "source": [
    "import tensorflow as tf\n",
    "import numpy as np\n",
    "import os"
   ]
  },
  {
   "cell_type": "code",
   "execution_count": 7,
   "metadata": {},
   "outputs": [],
   "source": [
    "def tweets_to_text(country_code):\n",
    "    return ' '.join(dialect_df[dialect_df['dialect'] == country_code]['tweet'].values)"
   ]
  },
  {
   "cell_type": "code",
   "execution_count": 8,
   "metadata": {},
   "outputs": [],
   "source": [
    "tn_text = tweets_to_text('TN')"
   ]
  },
  {
   "cell_type": "code",
   "execution_count": 9,
   "metadata": {},
   "outputs": [
    {
     "data": {
      "text/plain": [
       "685763"
      ]
     },
     "execution_count": 9,
     "metadata": {},
     "output_type": "execute_result"
    }
   ],
   "source": [
    "len(tn_text)"
   ]
  },
  {
   "cell_type": "code",
   "execution_count": 10,
   "metadata": {},
   "outputs": [
    {
     "data": {
      "text/plain": [
       "'ناس بكري قالوا طيح وشوف شكون يوقف معاك غيب وشوف شكون يسال عليك و بعد غربل و صفي مثل شعبي تونسي تونس المزيانه تهبل والله فنانه مبدعه انت ماشاء الله الله يبارك فيك يعيشك عيدكم مبروك وسنين دايمه دلوع الل'"
      ]
     },
     "execution_count": 10,
     "metadata": {},
     "output_type": "execute_result"
    }
   ],
   "source": [
    "tn_text[:200]"
   ]
  },
  {
   "cell_type": "code",
   "execution_count": 11,
   "metadata": {},
   "outputs": [],
   "source": [
    "tn_vocab = sorted(set(tn_text.split()))"
   ]
  },
  {
   "cell_type": "code",
   "execution_count": 12,
   "metadata": {},
   "outputs": [],
   "source": [
    "char2idx = {char:index for index, char in enumerate(tn_vocab)}\n",
    "idx2char = np.array(tn_vocab)"
   ]
  },
  {
   "cell_type": "code",
   "execution_count": 13,
   "metadata": {},
   "outputs": [],
   "source": [
    "text_as_int = np.array([char2idx[char] for char in tn_text.split()])"
   ]
  },
  {
   "cell_type": "code",
   "execution_count": 14,
   "metadata": {},
   "outputs": [],
   "source": [
    "seq_length = 3\n",
    "examples_per_epoch = len(tn_text.split())//seq_length"
   ]
  },
  {
   "cell_type": "code",
   "execution_count": 15,
   "metadata": {},
   "outputs": [],
   "source": [
    "char_dataset = tf.data.Dataset.from_tensor_slices(text_as_int)"
   ]
  },
  {
   "cell_type": "code",
   "execution_count": 16,
   "metadata": {},
   "outputs": [
    {
     "name": "stdout",
     "output_type": "stream",
     "text": [
      "ناس\n",
      "بكري\n",
      "قالوا\n",
      "طيح\n",
      "وشوف\n",
      "شكون\n",
      "يوقف\n",
      "معاك\n",
      "غيب\n",
      "وشوف\n"
     ]
    }
   ],
   "source": [
    "for i in char_dataset.take(10):\n",
    "    print(idx2char[i.numpy()])"
   ]
  },
  {
   "cell_type": "code",
   "execution_count": 17,
   "metadata": {},
   "outputs": [
    {
     "name": "stdout",
     "output_type": "stream",
     "text": [
      "'ناس بكري قالوا طيح'\n",
      "'وشوف شكون يوقف معاك'\n",
      "'غيب وشوف شكون يسال'\n",
      "'عليك و بعد غربل'\n",
      "'و صفي مثل شعبي'\n",
      "'تونسي تونس المزيانه تهبل'\n",
      "'والله فنانه مبدعه انت'\n",
      "'ماشاء الله الله يبارك'\n",
      "'فيك يعيشك عيدكم مبروك'\n",
      "'وسنين دايمه دلوع الله'\n"
     ]
    }
   ],
   "source": [
    "sequences = char_dataset.batch(seq_length+1, drop_remainder=True)\n",
    "# Try 10\n",
    "for item in sequences.take(10):\n",
    "    print(repr(' '.join(idx2char[item.numpy()])))"
   ]
  },
  {
   "cell_type": "code",
   "execution_count": 18,
   "metadata": {},
   "outputs": [],
   "source": [
    "def split_input_target(chunk):\n",
    "    input_text = chunk[:-1]\n",
    "    target_text = chunk[1:]\n",
    "    return input_text, target_text\n",
    "\n",
    "dataset = sequences.map(split_input_target)"
   ]
  },
  {
   "cell_type": "code",
   "execution_count": 19,
   "metadata": {},
   "outputs": [
    {
     "name": "stdout",
     "output_type": "stream",
     "text": [
      "Input data:  'ناس بكري قالوا'\n",
      "Target data: 'بكري قالوا طيح'\n",
      "Input data:  'وشوف شكون يوقف'\n",
      "Target data: 'شكون يوقف معاك'\n",
      "Input data:  'غيب وشوف شكون'\n",
      "Target data: 'وشوف شكون يسال'\n",
      "Input data:  'عليك و بعد'\n",
      "Target data: 'و بعد غربل'\n",
      "Input data:  'و صفي مثل'\n",
      "Target data: 'صفي مثل شعبي'\n",
      "Input data:  'تونسي تونس المزيانه'\n",
      "Target data: 'تونس المزيانه تهبل'\n",
      "Input data:  'والله فنانه مبدعه'\n",
      "Target data: 'فنانه مبدعه انت'\n",
      "Input data:  'ماشاء الله الله'\n",
      "Target data: 'الله الله يبارك'\n",
      "Input data:  'فيك يعيشك عيدكم'\n",
      "Target data: 'يعيشك عيدكم مبروك'\n",
      "Input data:  'وسنين دايمه دلوع'\n",
      "Target data: 'دايمه دلوع الله'\n"
     ]
    }
   ],
   "source": [
    "for input_example, target_example in  dataset.take(10):\n",
    "    print ('Input data: ', repr(' '.join(idx2char[input_example.numpy()])))\n",
    "    print ('Target data:', repr(' '.join(idx2char[target_example.numpy()])))"
   ]
  },
  {
   "cell_type": "code",
   "execution_count": 20,
   "metadata": {},
   "outputs": [],
   "source": [
    "BATCH_SIZE = 64\n",
    "BUFFER_SIZE = 10000\n",
    "\n",
    "dataset = dataset.shuffle(BUFFER_SIZE).batch(BATCH_SIZE, drop_remainder=True)"
   ]
  },
  {
   "cell_type": "code",
   "execution_count": 21,
   "metadata": {},
   "outputs": [],
   "source": [
    "vocab_size = len(tn_vocab)\n",
    "embedding_dim = 256\n",
    "rnn_units = 256"
   ]
  },
  {
   "cell_type": "code",
   "execution_count": 22,
   "metadata": {},
   "outputs": [],
   "source": [
    "def build_model(vocab_size, embedding_dim, rnn_units, batch_size):\n",
    "    model = tf.keras.Sequential([\n",
    "        tf.keras.layers.Embedding(vocab_size, embedding_dim, batch_input_shape=[batch_size, None]),\n",
    "        tf.keras.layers.GRU(rnn_units, return_sequences=True, stateful=True, recurrent_initializer='glorot_uniform'),\n",
    "        tf.keras.layers.Dense(vocab_size)\n",
    "    ])\n",
    "    return model"
   ]
  },
  {
   "cell_type": "code",
   "execution_count": 23,
   "metadata": {},
   "outputs": [],
   "source": [
    "model = build_model(vocab_size=vocab_size, embedding_dim=embedding_dim, rnn_units=rnn_units, batch_size=BATCH_SIZE)"
   ]
  },
  {
   "cell_type": "code",
   "execution_count": 24,
   "metadata": {},
   "outputs": [
    {
     "name": "stdout",
     "output_type": "stream",
     "text": [
      "(64, 3, 32893) # (batch_size, sequence_length, vocab_size)\n",
      "(64, 3, 32893) # (batch_size, sequence_length, vocab_size)\n",
      "(64, 3, 32893) # (batch_size, sequence_length, vocab_size)\n",
      "(64, 3, 32893) # (batch_size, sequence_length, vocab_size)\n",
      "(64, 3, 32893) # (batch_size, sequence_length, vocab_size)\n",
      "(64, 3, 32893) # (batch_size, sequence_length, vocab_size)\n",
      "(64, 3, 32893) # (batch_size, sequence_length, vocab_size)\n",
      "(64, 3, 32893) # (batch_size, sequence_length, vocab_size)\n",
      "(64, 3, 32893) # (batch_size, sequence_length, vocab_size)\n",
      "(64, 3, 32893) # (batch_size, sequence_length, vocab_size)\n"
     ]
    }
   ],
   "source": [
    "for input_example_batch, target_example_batch in dataset.take(10):\n",
    "    example_batch_predictions = model(input_example_batch)\n",
    "    print(example_batch_predictions.shape, \"# (batch_size, sequence_length, vocab_size)\")"
   ]
  },
  {
   "cell_type": "code",
   "execution_count": 25,
   "metadata": {},
   "outputs": [
    {
     "name": "stdout",
     "output_type": "stream",
     "text": [
      "Model: \"sequential\"\n",
      "_________________________________________________________________\n",
      " Layer (type)                Output Shape              Param #   \n",
      "=================================================================\n",
      " embedding (Embedding)       (64, None, 256)           8420608   \n",
      "                                                                 \n",
      " gru (GRU)                   (64, None, 256)           394752    \n",
      "                                                                 \n",
      " dense (Dense)               (64, None, 32893)         8453501   \n",
      "                                                                 \n",
      "=================================================================\n",
      "Total params: 17,268,861\n",
      "Trainable params: 17,268,861\n",
      "Non-trainable params: 0\n",
      "_________________________________________________________________\n"
     ]
    }
   ],
   "source": [
    "model.summary()"
   ]
  },
  {
   "cell_type": "code",
   "execution_count": 26,
   "metadata": {},
   "outputs": [],
   "source": [
    "sampled_indices = tf.random.categorical(example_batch_predictions[0], num_samples=1)\n",
    "sampled_indices = tf.squeeze(sampled_indices,axis=-1).numpy()"
   ]
  },
  {
   "cell_type": "code",
   "execution_count": 27,
   "metadata": {},
   "outputs": [
    {
     "data": {
      "text/plain": [
       "array([ 9193, 32766, 15155], dtype=int64)"
      ]
     },
     "execution_count": 27,
     "metadata": {},
     "output_type": "execute_result"
    }
   ],
   "source": [
    "sampled_indices"
   ]
  },
  {
   "cell_type": "code",
   "execution_count": 28,
   "metadata": {},
   "outputs": [
    {
     "data": {
      "text/plain": [
       "<tf.Tensor: shape=(3,), dtype=int32, numpy=array([ 5374, 19082, 25069])>"
      ]
     },
     "execution_count": 28,
     "metadata": {},
     "output_type": "execute_result"
    }
   ],
   "source": [
    "input_example_batch[0]"
   ]
  },
  {
   "cell_type": "code",
   "execution_count": 29,
   "metadata": {},
   "outputs": [
    {
     "name": "stdout",
     "output_type": "stream",
     "text": [
      "Input: \n",
      " 'المدرسيه قلت نخلط'\n",
      "\n",
      "Next Char Predictions: \n",
      " 'بوقه يهلك سليتها'\n"
     ]
    }
   ],
   "source": [
    "print(\"Input: \\n\", repr(\" \".join(idx2char[input_example_batch[0].numpy()])))\n",
    "print()\n",
    "print(\"Next Char Predictions: \\n\", repr(\" \".join(idx2char[sampled_indices])))"
   ]
  },
  {
   "cell_type": "code",
   "execution_count": 30,
   "metadata": {},
   "outputs": [
    {
     "name": "stdout",
     "output_type": "stream",
     "text": [
      "Prediction shape:  (64, 3, 32893)  # (batch_size, sequence_length, vocab_size)\n",
      "scalar_loss:       10.400959\n"
     ]
    }
   ],
   "source": [
    "def loss(labels, logits):\n",
    "    return tf.keras.losses.sparse_categorical_crossentropy(labels, logits, from_logits=True)\n",
    "\n",
    "example_batch_loss  = loss(target_example_batch, example_batch_predictions)\n",
    "print(\"Prediction shape: \", example_batch_predictions.shape, \" # (batch_size, sequence_length, vocab_size)\")\n",
    "print(\"scalar_loss:      \", example_batch_loss.numpy().mean())"
   ]
  },
  {
   "cell_type": "code",
   "execution_count": 31,
   "metadata": {},
   "outputs": [],
   "source": [
    "model.compile(optimizer='adam', loss=loss)"
   ]
  },
  {
   "cell_type": "code",
   "execution_count": 32,
   "metadata": {},
   "outputs": [],
   "source": [
    "# Directory where the checkpoints will be saved\n",
    "checkpoint_dir = './training_checkpoints'\n",
    "# Name of the checkpoint files\n",
    "checkpoint_prefix = os.path.join(checkpoint_dir, \"ckpt_{epoch}\")\n",
    "\n",
    "checkpoint_callback = tf.keras.callbacks.ModelCheckpoint(filepath=checkpoint_prefix, save_weights_only=True)"
   ]
  },
  {
   "cell_type": "code",
   "execution_count": 33,
   "metadata": {},
   "outputs": [],
   "source": [
    "EPOCHS = 10"
   ]
  },
  {
   "cell_type": "code",
   "execution_count": 34,
   "metadata": {},
   "outputs": [
    {
     "name": "stdout",
     "output_type": "stream",
     "text": [
      "Epoch 1/10\n",
      "511/511 [==============================] - 20s 29ms/step - loss: 9.2139\n",
      "Epoch 2/10\n",
      "511/511 [==============================] - 21s 40ms/step - loss: 8.3973\n",
      "Epoch 3/10\n",
      "511/511 [==============================] - 20s 38ms/step - loss: 7.8905\n",
      "Epoch 4/10\n",
      "511/511 [==============================] - 19s 35ms/step - loss: 7.1779\n",
      "Epoch 5/10\n",
      "511/511 [==============================] - 19s 37ms/step - loss: 6.3635\n",
      "Epoch 6/10\n",
      "511/511 [==============================] - 20s 39ms/step - loss: 5.5585\n",
      "Epoch 7/10\n",
      "511/511 [==============================] - 20s 38ms/step - loss: 4.8250\n",
      "Epoch 8/10\n",
      "511/511 [==============================] - 20s 39ms/step - loss: 4.2061\n",
      "Epoch 9/10\n",
      "511/511 [==============================] - 18s 35ms/step - loss: 3.7141\n",
      "Epoch 10/10\n",
      "511/511 [==============================] - 20s 38ms/step - loss: 3.3325\n"
     ]
    }
   ],
   "source": [
    "history = model.fit(dataset, epochs=EPOCHS, callbacks=[checkpoint_callback])"
   ]
  },
  {
   "cell_type": "code",
   "execution_count": 35,
   "metadata": {},
   "outputs": [
    {
     "data": {
      "text/plain": [
       "'./training_checkpoints\\\\ckpt_10'"
      ]
     },
     "execution_count": 35,
     "metadata": {},
     "output_type": "execute_result"
    }
   ],
   "source": [
    "tf.train.latest_checkpoint(checkpoint_dir)"
   ]
  },
  {
   "cell_type": "code",
   "execution_count": 36,
   "metadata": {},
   "outputs": [],
   "source": [
    "model = build_model(vocab_size, embedding_dim, rnn_units, batch_size=1)\n",
    "model.load_weights(tf.train.latest_checkpoint(checkpoint_dir))\n",
    "model.build(tf.TensorShape([1, None]))"
   ]
  },
  {
   "cell_type": "code",
   "execution_count": 37,
   "metadata": {},
   "outputs": [],
   "source": [
    "def generate_text(model, start_string):\n",
    "    # Evaluation step (generating text using the learned model)\n",
    "\n",
    "    # Number of characters to generate\n",
    "    num_generate = 5\n",
    "\n",
    "    # Converting our start string to numbers (vectorizing)\n",
    "    input_eval = [np.random.randint(0, len(tn_vocab))]\n",
    "    input_eval = tf.expand_dims(input_eval, 0)\n",
    "\n",
    "    # Empty string to store our results\n",
    "    text_generated = []\n",
    "\n",
    "    # Low temperatures results in more predictable text.\n",
    "    # Higher temperatures results in more surprising text.\n",
    "    # Experiment to find the best setting.\n",
    "    temperature = 1.0\n",
    "\n",
    "    # Here batch size == 1\n",
    "    model.reset_states()\n",
    "    for i in range(num_generate):\n",
    "        predictions = model(input_eval)\n",
    "        # remove the batch dimension\n",
    "        predictions = tf.squeeze(predictions, 0)\n",
    "\n",
    "        # using a categorical distribution to predict the word returned by the model\n",
    "        predictions = predictions / temperature\n",
    "        predicted_id = tf.random.categorical(predictions, num_samples=1)[-1,0].numpy()\n",
    "\n",
    "        # We pass the predicted word as the next input to the model\n",
    "        # along with the previous hidden state\n",
    "        input_eval = tf.expand_dims([predicted_id], 0)\n",
    "\n",
    "        text_generated.append(idx2char[predicted_id])\n",
    "\n",
    "    return (start_string + ' '.join(text_generated))"
   ]
  },
  {
   "cell_type": "code",
   "execution_count": 38,
   "metadata": {},
   "outputs": [
    {
     "name": "stdout",
     "output_type": "stream",
     "text": [
      "و التبهليل و الخاله بيتفاهموا\n",
      "اب فيه و تعمق في\n",
      "تحيه ليك من تونس شبي\n",
      "يعني فوق نشوف باكو هيك\n",
      "هي الحاجه هاذي توجعك قصها\n",
      "دراويش عالخبزه والمي يا باب\n",
      "سبتمبر اللي بيستاهل اكثر منو\n",
      "طالعه وعلي معاش خرجت السوري\n",
      "فيضانات متسببه عمرها ثلاثه لغات\n",
      "بنت دالي بيها سلبي ولا\n",
      "كيما مستانش عادل بعض حتا\n",
      "ههه حلوه ابداااع فخامه و\n",
      "الخلفاوي حاله نقابه شقيقه يتعدي\n",
      "الكاينات كي تمشي وينكم تعالو\n",
      "الارهابيه غشوها عطوها و احنا\n",
      "لخر الجهات ومن البيبان الكل\n",
      "كعبه بوفريوه جمهوره مش راح\n",
      "جايز ههه ما يعطينش و\n",
      "يسكر لو باش نصون للقروي\n",
      "كورويه السااافل خطير برشا لكن\n",
      "الصبح علي الريق احكي فيك\n",
      "حارقه ذكراك طول يطلع الاحوال\n",
      "هي مش دول بالوجع وبرضو\n",
      "يستحي ولا كل ما ينجمش\n",
      "في قالك زعيم تويتر و\n",
      "والبرازيل مزور بطاقته و الا\n",
      "جدد التزليطه الي فيه قبل\n",
      "النصر يمنشني عندك تاليفون معبي\n",
      "اجبد يا طرشه هذاك ياسر\n",
      "زيد اتلهي يولي اللمه الكل\n",
      "و احترام فلسطين ونروحو نكته\n",
      "محلاه سالمين يبوظ يضحكوني في\n",
      "الاخر يعطيه وتشرفت بسكاتهم ولا\n",
      "بعض الناس باخلاقوا وانا قلت\n",
      "قويه برشا في النيابه العموميه\n",
      "عايز عجبتكم ما جاوبنا جيبلي\n",
      "في كل شيء نوحلوه في\n",
      "يزيونا ومين يعطيكم الصحه مقياس\n",
      "تغور مع تحياتي رانا الدواء\n",
      "اتخطي اسامح اتجاوز ويصبر عايلته\n",
      "في قتله مرابط ويلعن ميحبوناش\n",
      "لعشاء و عالجرح زاده نحبوا\n",
      "مع طرد ياام للشي متاعو\n",
      "فالرجال ذاكره من المنظومه الاحتجاجات\n",
      "عايلته علي بلدك افريقيا علاش\n",
      "وتواضعك جدا يا كلب لانك\n",
      "ماعرفوش يوم دام بيدافعو باعرفو\n",
      "يحترم ام البنات شووو شوفت\n",
      "فكر بتخونينا يا يجينا يا\n",
      "كاتب من الطفيليين اللي جابك\n"
     ]
    }
   ],
   "source": [
    "for i in range(50):\n",
    "    print(generate_text(model, start_string=''))"
   ]
  }
 ],
 "metadata": {
  "kernelspec": {
   "display_name": "Python [conda env:tf]",
   "language": "python",
   "name": "conda-env-tf-py"
  },
  "language_info": {
   "codemirror_mode": {
    "name": "ipython",
    "version": 3
   },
   "file_extension": ".py",
   "mimetype": "text/x-python",
   "name": "python",
   "nbconvert_exporter": "python",
   "pygments_lexer": "ipython3",
   "version": "3.8.12"
  }
 },
 "nbformat": 4,
 "nbformat_minor": 4
}
