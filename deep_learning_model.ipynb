{
 "cells": [
  {
   "cell_type": "code",
   "execution_count": 24,
   "metadata": {},
   "outputs": [],
   "source": [
    "import pickle\n",
    "import pandas as pd\n",
    "import numpy as np\n",
    "from sklearn.preprocessing import LabelEncoder\n",
    "from sklearn.metrics import classification_report\n",
    "import tensorflow as tf\n",
    "from tensorflow.keras.models import *\n",
    "from tensorflow.keras.layers import *\n",
    "from tensorflow.keras.preprocessing.text import Tokenizer\n",
    "from tensorflow.keras.preprocessing.sequence import pad_sequences"
   ]
  },
  {
   "cell_type": "code",
   "execution_count": 2,
   "metadata": {},
   "outputs": [],
   "source": [
    "tf.random.set_seed(26021997)"
   ]
  },
  {
   "cell_type": "markdown",
   "metadata": {},
   "source": [
    "# Load data"
   ]
  },
  {
   "cell_type": "code",
   "execution_count": 3,
   "metadata": {},
   "outputs": [],
   "source": [
    "dialect_df = pd.read_csv('data/clean_dataset.csv')\n",
    "train_df = pd.read_csv('data/train_dataset.csv')\n",
    "test_df = pd.read_csv('data/test_dataset.csv')"
   ]
  },
  {
   "cell_type": "code",
   "execution_count": 4,
   "metadata": {},
   "outputs": [
    {
     "data": {
      "text/html": [
       "<div>\n",
       "<style scoped>\n",
       "    .dataframe tbody tr th:only-of-type {\n",
       "        vertical-align: middle;\n",
       "    }\n",
       "\n",
       "    .dataframe tbody tr th {\n",
       "        vertical-align: top;\n",
       "    }\n",
       "\n",
       "    .dataframe thead th {\n",
       "        text-align: right;\n",
       "    }\n",
       "</style>\n",
       "<table border=\"1\" class=\"dataframe\">\n",
       "  <thead>\n",
       "    <tr style=\"text-align: right;\">\n",
       "      <th></th>\n",
       "      <th>id</th>\n",
       "      <th>dialect</th>\n",
       "      <th>tweet</th>\n",
       "    </tr>\n",
       "  </thead>\n",
       "  <tbody>\n",
       "    <tr>\n",
       "      <th>0</th>\n",
       "      <td>1175358310087892992</td>\n",
       "      <td>IQ</td>\n",
       "      <td>لكن بالنهايه ينتفض يغير</td>\n",
       "    </tr>\n",
       "    <tr>\n",
       "      <th>1</th>\n",
       "      <td>1175416117793349632</td>\n",
       "      <td>IQ</td>\n",
       "      <td>يعني هذا محسوب علي البشر حيونه ووحشيه وتطلبون ...</td>\n",
       "    </tr>\n",
       "    <tr>\n",
       "      <th>2</th>\n",
       "      <td>1175450108898565888</td>\n",
       "      <td>IQ</td>\n",
       "      <td>مبين من كلامه خليجي</td>\n",
       "    </tr>\n",
       "    <tr>\n",
       "      <th>3</th>\n",
       "      <td>1175471073770573824</td>\n",
       "      <td>IQ</td>\n",
       "      <td>يسلملي مرورك وروحك الحلوه</td>\n",
       "    </tr>\n",
       "    <tr>\n",
       "      <th>4</th>\n",
       "      <td>1175496913145217024</td>\n",
       "      <td>IQ</td>\n",
       "      <td>وين هل الغيبه اخ محمد</td>\n",
       "    </tr>\n",
       "    <tr>\n",
       "      <th>...</th>\n",
       "      <td>...</td>\n",
       "      <td>...</td>\n",
       "      <td>...</td>\n",
       "    </tr>\n",
       "    <tr>\n",
       "      <th>458191</th>\n",
       "      <td>1019484980282580992</td>\n",
       "      <td>BH</td>\n",
       "      <td>مبسوطين منك اللي باسطانا</td>\n",
       "    </tr>\n",
       "    <tr>\n",
       "      <th>458192</th>\n",
       "      <td>1021083283709407232</td>\n",
       "      <td>BH</td>\n",
       "      <td>والله ماينده ابش يختي</td>\n",
       "    </tr>\n",
       "    <tr>\n",
       "      <th>458193</th>\n",
       "      <td>1017477537889431552</td>\n",
       "      <td>BH</td>\n",
       "      <td>شو عملنا لك حنا تهربي مننا احنا مساكين ليش بتع...</td>\n",
       "    </tr>\n",
       "    <tr>\n",
       "      <th>458194</th>\n",
       "      <td>1022430374696239232</td>\n",
       "      <td>BH</td>\n",
       "      <td>الله يبارك فيها وبالعافيه</td>\n",
       "    </tr>\n",
       "    <tr>\n",
       "      <th>458195</th>\n",
       "      <td>1022409931029458944</td>\n",
       "      <td>BH</td>\n",
       "      <td>السحله ضيفي ي بتطلع لك سحليه</td>\n",
       "    </tr>\n",
       "  </tbody>\n",
       "</table>\n",
       "<p>458196 rows × 3 columns</p>\n",
       "</div>"
      ],
      "text/plain": [
       "                         id dialect  \\\n",
       "0       1175358310087892992      IQ   \n",
       "1       1175416117793349632      IQ   \n",
       "2       1175450108898565888      IQ   \n",
       "3       1175471073770573824      IQ   \n",
       "4       1175496913145217024      IQ   \n",
       "...                     ...     ...   \n",
       "458191  1019484980282580992      BH   \n",
       "458192  1021083283709407232      BH   \n",
       "458193  1017477537889431552      BH   \n",
       "458194  1022430374696239232      BH   \n",
       "458195  1022409931029458944      BH   \n",
       "\n",
       "                                                    tweet  \n",
       "0                                 لكن بالنهايه ينتفض يغير  \n",
       "1       يعني هذا محسوب علي البشر حيونه ووحشيه وتطلبون ...  \n",
       "2                                     مبين من كلامه خليجي  \n",
       "3                               يسلملي مرورك وروحك الحلوه  \n",
       "4                                   وين هل الغيبه اخ محمد  \n",
       "...                                                   ...  \n",
       "458191                           مبسوطين منك اللي باسطانا  \n",
       "458192                              والله ماينده ابش يختي  \n",
       "458193  شو عملنا لك حنا تهربي مننا احنا مساكين ليش بتع...  \n",
       "458194                          الله يبارك فيها وبالعافيه  \n",
       "458195                       السحله ضيفي ي بتطلع لك سحليه  \n",
       "\n",
       "[458196 rows x 3 columns]"
      ]
     },
     "execution_count": 4,
     "metadata": {},
     "output_type": "execute_result"
    }
   ],
   "source": [
    "dialect_df"
   ]
  },
  {
   "cell_type": "markdown",
   "metadata": {},
   "source": [
    "# Use keras Tokenizer to represent text"
   ]
  },
  {
   "cell_type": "code",
   "execution_count": 5,
   "metadata": {},
   "outputs": [],
   "source": [
    "n_vocab = 50000\n",
    "tokenizer = Tokenizer(num_words=n_vocab, lower=False)\n",
    "tokenizer.fit_on_texts(dialect_df['tweet'])"
   ]
  },
  {
   "cell_type": "code",
   "execution_count": 6,
   "metadata": {},
   "outputs": [],
   "source": [
    "train_tokenized = tokenizer.texts_to_sequences(train_df['tweet'])\n",
    "test_tokenized = tokenizer.texts_to_sequences(test_df['tweet'])"
   ]
  },
  {
   "cell_type": "markdown",
   "metadata": {},
   "source": [
    "# Tweets padding"
   ]
  },
  {
   "cell_type": "code",
   "execution_count": 7,
   "metadata": {},
   "outputs": [],
   "source": [
    "max_length = 20 # pad tweets to 20 words only\n",
    "X_train = pad_sequences(train_tokenized, maxlen=max_length, padding='post')\n",
    "X_test = pad_sequences(test_tokenized, maxlen=max_length, padding='post')"
   ]
  },
  {
   "cell_type": "code",
   "execution_count": 8,
   "metadata": {},
   "outputs": [
    {
     "data": {
      "text/plain": [
       "LabelEncoder()"
      ]
     },
     "execution_count": 8,
     "metadata": {},
     "output_type": "execute_result"
    }
   ],
   "source": [
    "encoder = LabelEncoder()\n",
    "encoder.fit(train_df['dialect'])"
   ]
  },
  {
   "cell_type": "code",
   "execution_count": 9,
   "metadata": {},
   "outputs": [],
   "source": [
    "y_train = encoder.transform(train_df['dialect'])\n",
    "y_test = encoder.transform(test_df['dialect'])"
   ]
  },
  {
   "cell_type": "markdown",
   "metadata": {},
   "source": [
    "# Add class weight to deal with class imbalance"
   ]
  },
  {
   "cell_type": "code",
   "execution_count": 10,
   "metadata": {},
   "outputs": [],
   "source": [
    "y_df = pd.DataFrame(y_train, columns=['label'])\n",
    "class_weight = (1/y_df.label.value_counts()).to_dict()"
   ]
  },
  {
   "cell_type": "markdown",
   "metadata": {},
   "source": [
    "# Model architecture"
   ]
  },
  {
   "cell_type": "code",
   "execution_count": 11,
   "metadata": {},
   "outputs": [],
   "source": [
    "def bi_lstm():\n",
    "    sequence_input = Input(shape=(max_length,), dtype='int32')\n",
    "    embedding_layer = Embedding(output_dim=100, input_dim=n_vocab, mask_zero=True)\n",
    "    embedding_seq = embedding_layer(sequence_input)\n",
    "    dropout = Dropout(0.5)(embedding_seq)\n",
    "    bi_lstm = Bidirectional(LSTM(32))(dropout)\n",
    "    output = Dense(18, activation='softmax')(bi_lstm)\n",
    "    return Model(sequence_input, output)"
   ]
  },
  {
   "cell_type": "code",
   "execution_count": 12,
   "metadata": {},
   "outputs": [
    {
     "name": "stdout",
     "output_type": "stream",
     "text": [
      "Model: \"model\"\n",
      "_________________________________________________________________\n",
      " Layer (type)                Output Shape              Param #   \n",
      "=================================================================\n",
      " input_1 (InputLayer)        [(None, 20)]              0         \n",
      "                                                                 \n",
      " embedding (Embedding)       (None, 20, 100)           5000000   \n",
      "                                                                 \n",
      " dropout (Dropout)           (None, 20, 100)           0         \n",
      "                                                                 \n",
      " bidirectional (Bidirectiona  (None, 64)               34048     \n",
      " l)                                                              \n",
      "                                                                 \n",
      " dense (Dense)               (None, 18)                1170      \n",
      "                                                                 \n",
      "=================================================================\n",
      "Total params: 5,035,218\n",
      "Trainable params: 5,035,218\n",
      "Non-trainable params: 0\n",
      "_________________________________________________________________\n"
     ]
    }
   ],
   "source": [
    "model = bi_lstm()\n",
    "model.compile(optimizer='rmsprop', loss='sparse_categorical_crossentropy', metrics=['accuracy'])\n",
    "model.summary()"
   ]
  },
  {
   "cell_type": "markdown",
   "metadata": {},
   "source": [
    "# Model training"
   ]
  },
  {
   "cell_type": "code",
   "execution_count": 13,
   "metadata": {},
   "outputs": [
    {
     "name": "stdout",
     "output_type": "stream",
     "text": [
      "Epoch 1/100\n",
      "399/399 [==============================] - 20s 31ms/step - loss: 1.2731e-04 - accuracy: 0.0725 - val_loss: 2.8801 - val_accuracy: 0.1166\n",
      "Epoch 2/100\n",
      "399/399 [==============================] - 9s 24ms/step - loss: 1.2639e-04 - accuracy: 0.1251 - val_loss: 2.8031 - val_accuracy: 0.1378\n",
      "Epoch 3/100\n",
      "399/399 [==============================] - 9s 24ms/step - loss: 1.1787e-04 - accuracy: 0.1810 - val_loss: 2.4703 - val_accuracy: 0.2218\n",
      "Epoch 4/100\n",
      "399/399 [==============================] - 10s 24ms/step - loss: 1.0625e-04 - accuracy: 0.2323 - val_loss: 2.2657 - val_accuracy: 0.2659\n",
      "Epoch 5/100\n",
      "399/399 [==============================] - 9s 23ms/step - loss: 9.9077e-05 - accuracy: 0.2746 - val_loss: 2.1478 - val_accuracy: 0.3041\n",
      "Epoch 6/100\n",
      "399/399 [==============================] - 9s 23ms/step - loss: 9.3670e-05 - accuracy: 0.3127 - val_loss: 2.0594 - val_accuracy: 0.3386\n",
      "Epoch 7/100\n",
      "399/399 [==============================] - 10s 24ms/step - loss: 8.9287e-05 - accuracy: 0.3448 - val_loss: 1.9680 - val_accuracy: 0.3721\n",
      "Epoch 8/100\n",
      "399/399 [==============================] - 11s 27ms/step - loss: 8.5728e-05 - accuracy: 0.3708 - val_loss: 1.9164 - val_accuracy: 0.3911\n",
      "Epoch 9/100\n",
      "399/399 [==============================] - 11s 27ms/step - loss: 8.2751e-05 - accuracy: 0.3908 - val_loss: 1.8860 - val_accuracy: 0.3993\n",
      "Epoch 10/100\n",
      "399/399 [==============================] - 11s 26ms/step - loss: 8.0293e-05 - accuracy: 0.4084 - val_loss: 1.8487 - val_accuracy: 0.4123\n",
      "Epoch 11/100\n",
      "399/399 [==============================] - 10s 25ms/step - loss: 7.8132e-05 - accuracy: 0.4232 - val_loss: 1.7982 - val_accuracy: 0.4275\n",
      "Epoch 12/100\n",
      "399/399 [==============================] - 10s 26ms/step - loss: 7.6297e-05 - accuracy: 0.4358 - val_loss: 1.7931 - val_accuracy: 0.4327\n",
      "Epoch 13/100\n",
      "399/399 [==============================] - 10s 26ms/step - loss: 7.4546e-05 - accuracy: 0.4486 - val_loss: 1.7644 - val_accuracy: 0.4390\n",
      "Epoch 14/100\n",
      "399/399 [==============================] - 10s 26ms/step - loss: 7.3057e-05 - accuracy: 0.4580 - val_loss: 1.7446 - val_accuracy: 0.4480\n",
      "Epoch 15/100\n",
      "399/399 [==============================] - 11s 26ms/step - loss: 7.1571e-05 - accuracy: 0.4698 - val_loss: 1.7291 - val_accuracy: 0.4518\n",
      "Epoch 16/100\n",
      "399/399 [==============================] - 10s 25ms/step - loss: 7.0192e-05 - accuracy: 0.4785 - val_loss: 1.7191 - val_accuracy: 0.4567\n",
      "Epoch 17/100\n",
      "399/399 [==============================] - 10s 25ms/step - loss: 6.8979e-05 - accuracy: 0.4866 - val_loss: 1.6980 - val_accuracy: 0.4634\n",
      "Epoch 18/100\n",
      "399/399 [==============================] - 11s 27ms/step - loss: 6.7794e-05 - accuracy: 0.4955 - val_loss: 1.6985 - val_accuracy: 0.4625\n",
      "Epoch 19/100\n",
      "399/399 [==============================] - 10s 26ms/step - loss: 6.6593e-05 - accuracy: 0.5038 - val_loss: 1.6933 - val_accuracy: 0.4668\n",
      "Epoch 20/100\n",
      "399/399 [==============================] - 10s 26ms/step - loss: 6.5506e-05 - accuracy: 0.5109 - val_loss: 1.6683 - val_accuracy: 0.4755\n",
      "Epoch 21/100\n",
      "399/399 [==============================] - 10s 26ms/step - loss: 6.4526e-05 - accuracy: 0.5178 - val_loss: 1.6721 - val_accuracy: 0.4745\n",
      "Epoch 22/100\n",
      "399/399 [==============================] - 10s 26ms/step - loss: 6.3578e-05 - accuracy: 0.5244 - val_loss: 1.6633 - val_accuracy: 0.4785\n",
      "Epoch 23/100\n",
      "399/399 [==============================] - 10s 26ms/step - loss: 6.2592e-05 - accuracy: 0.5297 - val_loss: 1.6572 - val_accuracy: 0.4815\n",
      "Epoch 24/100\n",
      "399/399 [==============================] - 11s 27ms/step - loss: 6.1772e-05 - accuracy: 0.5368 - val_loss: 1.6565 - val_accuracy: 0.4825\n",
      "Epoch 25/100\n",
      "399/399 [==============================] - 10s 26ms/step - loss: 6.0847e-05 - accuracy: 0.5422 - val_loss: 1.6523 - val_accuracy: 0.4831\n",
      "Epoch 26/100\n",
      "399/399 [==============================] - 10s 26ms/step - loss: 6.0086e-05 - accuracy: 0.5472 - val_loss: 1.6556 - val_accuracy: 0.4839\n",
      "Epoch 27/100\n",
      "399/399 [==============================] - 11s 27ms/step - loss: 5.9350e-05 - accuracy: 0.5531 - val_loss: 1.6413 - val_accuracy: 0.4877\n",
      "Epoch 28/100\n",
      "399/399 [==============================] - 10s 26ms/step - loss: 5.8585e-05 - accuracy: 0.5580 - val_loss: 1.6369 - val_accuracy: 0.4926\n",
      "Epoch 29/100\n",
      "399/399 [==============================] - 10s 26ms/step - loss: 5.7902e-05 - accuracy: 0.5630 - val_loss: 1.6395 - val_accuracy: 0.4922\n",
      "Epoch 30/100\n",
      "399/399 [==============================] - 10s 26ms/step - loss: 5.7177e-05 - accuracy: 0.5663 - val_loss: 1.6344 - val_accuracy: 0.4948\n",
      "Epoch 31/100\n",
      "399/399 [==============================] - 10s 26ms/step - loss: 5.6500e-05 - accuracy: 0.5719 - val_loss: 1.6432 - val_accuracy: 0.4939\n",
      "Epoch 32/100\n",
      "399/399 [==============================] - 10s 26ms/step - loss: 5.5908e-05 - accuracy: 0.5750 - val_loss: 1.6472 - val_accuracy: 0.4931\n",
      "Epoch 33/100\n",
      "399/399 [==============================] - 11s 27ms/step - loss: 5.5319e-05 - accuracy: 0.5792 - val_loss: 1.6588 - val_accuracy: 0.4898\n",
      "Epoch 34/100\n",
      "399/399 [==============================] - 10s 26ms/step - loss: 5.4701e-05 - accuracy: 0.5829 - val_loss: 1.6383 - val_accuracy: 0.4956\n",
      "Epoch 35/100\n",
      "399/399 [==============================] - 10s 26ms/step - loss: 5.4103e-05 - accuracy: 0.5877 - val_loss: 1.6521 - val_accuracy: 0.4936\n",
      "Epoch 36/100\n",
      "399/399 [==============================] - 10s 26ms/step - loss: 5.3584e-05 - accuracy: 0.5911 - val_loss: 1.6438 - val_accuracy: 0.4993\n",
      "Epoch 37/100\n",
      "399/399 [==============================] - 10s 26ms/step - loss: 5.3059e-05 - accuracy: 0.5942 - val_loss: 1.6410 - val_accuracy: 0.5002\n",
      "Epoch 38/100\n",
      "399/399 [==============================] - 10s 25ms/step - loss: 5.2559e-05 - accuracy: 0.5973 - val_loss: 1.6527 - val_accuracy: 0.4963\n",
      "Epoch 39/100\n",
      "399/399 [==============================] - 11s 27ms/step - loss: 5.2148e-05 - accuracy: 0.6015 - val_loss: 1.6579 - val_accuracy: 0.4962\n",
      "Epoch 40/100\n",
      "399/399 [==============================] - 10s 25ms/step - loss: 5.1651e-05 - accuracy: 0.6037 - val_loss: 1.6564 - val_accuracy: 0.4965\n"
     ]
    }
   ],
   "source": [
    "early_stopping = tf.keras.callbacks.EarlyStopping(monitor=\"val_loss\", patience=10, restore_best_weights=True)\n",
    "history = model.fit(X_train, y_train, validation_data=(X_test, y_test),\n",
    "                    epochs=100, batch_size=1024, class_weight=class_weight, callbacks=[early_stopping])"
   ]
  },
  {
   "cell_type": "code",
   "execution_count": 14,
   "metadata": {},
   "outputs": [
    {
     "data": {
      "text/plain": [
       "<AxesSubplot:>"
      ]
     },
     "execution_count": 14,
     "metadata": {},
     "output_type": "execute_result"
    },
    {
     "data": {
      "image/png": "[encoded data removed]",
      "text/plain": [
       "<Figure size 720x720 with 1 Axes>"
      ]
     },
     "metadata": {
      "needs_background": "light"
     },
     "output_type": "display_data"
    }
   ],
   "source": [
    "acc_dict = dict()\n",
    "acc_dict['train_accuracy'] = history.history['accuracy']\n",
    "acc_dict['test_accuracy'] = history.history['val_accuracy']\n",
    "pd.DataFrame(acc_dict).plot(figsize=(10, 10))"
   ]
  },
  {
   "cell_type": "markdown",
   "metadata": {},
   "source": [
    "# Train data report"
   ]
  },
  {
   "cell_type": "code",
   "execution_count": 15,
   "metadata": {},
   "outputs": [],
   "source": [
    "y_train_pred = np.argmax(model.predict(X_train),axis=1)"
   ]
  },
  {
   "cell_type": "code",
   "execution_count": 16,
   "metadata": {},
   "outputs": [],
   "source": [
    "y_train_pred_i = encoder.inverse_transform(y_train_pred)\n",
    "y_train_i = encoder.inverse_transform(y_train)"
   ]
  },
  {
   "cell_type": "code",
   "execution_count": 17,
   "metadata": {},
   "outputs": [],
   "source": [
    "train_report = classification_report(y_train_i, y_train_pred_i, output_dict=True)"
   ]
  },
  {
   "cell_type": "code",
   "execution_count": 18,
   "metadata": {},
   "outputs": [
    {
     "data": {
      "text/html": [
       "<div>\n",
       "<style scoped>\n",
       "    .dataframe tbody tr th:only-of-type {\n",
       "        vertical-align: middle;\n",
       "    }\n",
       "\n",
       "    .dataframe tbody tr th {\n",
       "        vertical-align: top;\n",
       "    }\n",
       "\n",
       "    .dataframe thead th {\n",
       "        text-align: right;\n",
       "    }\n",
       "</style>\n",
       "<table border=\"1\" class=\"dataframe\">\n",
       "  <thead>\n",
       "    <tr style=\"text-align: right;\">\n",
       "      <th></th>\n",
       "      <th>precision</th>\n",
       "      <th>recall</th>\n",
       "      <th>f1-score</th>\n",
       "      <th>support</th>\n",
       "    </tr>\n",
       "  </thead>\n",
       "  <tbody>\n",
       "    <tr>\n",
       "      <th>AE</th>\n",
       "      <td>0.552599</td>\n",
       "      <td>0.518654</td>\n",
       "      <td>0.535089</td>\n",
       "      <td>23426.000000</td>\n",
       "    </tr>\n",
       "    <tr>\n",
       "      <th>BH</th>\n",
       "      <td>0.515774</td>\n",
       "      <td>0.481621</td>\n",
       "      <td>0.498112</td>\n",
       "      <td>23423.000000</td>\n",
       "    </tr>\n",
       "    <tr>\n",
       "      <th>DZ</th>\n",
       "      <td>0.679692</td>\n",
       "      <td>0.748006</td>\n",
       "      <td>0.712215</td>\n",
       "      <td>14417.000000</td>\n",
       "    </tr>\n",
       "    <tr>\n",
       "      <th>EG</th>\n",
       "      <td>0.837922</td>\n",
       "      <td>0.809625</td>\n",
       "      <td>0.823531</td>\n",
       "      <td>51346.000000</td>\n",
       "    </tr>\n",
       "    <tr>\n",
       "      <th>IQ</th>\n",
       "      <td>0.621425</td>\n",
       "      <td>0.804216</td>\n",
       "      <td>0.701102</td>\n",
       "      <td>13806.000000</td>\n",
       "    </tr>\n",
       "    <tr>\n",
       "      <th>JO</th>\n",
       "      <td>0.489858</td>\n",
       "      <td>0.493206</td>\n",
       "      <td>0.491526</td>\n",
       "      <td>24874.000000</td>\n",
       "    </tr>\n",
       "    <tr>\n",
       "      <th>KW</th>\n",
       "      <td>0.686042</td>\n",
       "      <td>0.528256</td>\n",
       "      <td>0.596898</td>\n",
       "      <td>37514.000000</td>\n",
       "    </tr>\n",
       "    <tr>\n",
       "      <th>LB</th>\n",
       "      <td>0.777253</td>\n",
       "      <td>0.688859</td>\n",
       "      <td>0.730391</td>\n",
       "      <td>24603.000000</td>\n",
       "    </tr>\n",
       "    <tr>\n",
       "      <th>LY</th>\n",
       "      <td>0.821414</td>\n",
       "      <td>0.722690</td>\n",
       "      <td>0.768896</td>\n",
       "      <td>32516.000000</td>\n",
       "    </tr>\n",
       "    <tr>\n",
       "      <th>MA</th>\n",
       "      <td>0.729092</td>\n",
       "      <td>0.814981</td>\n",
       "      <td>0.769648</td>\n",
       "      <td>10280.000000</td>\n",
       "    </tr>\n",
       "    <tr>\n",
       "      <th>OM</th>\n",
       "      <td>0.496335</td>\n",
       "      <td>0.636171</td>\n",
       "      <td>0.557620</td>\n",
       "      <td>17030.000000</td>\n",
       "    </tr>\n",
       "    <tr>\n",
       "      <th>PL</th>\n",
       "      <td>0.610711</td>\n",
       "      <td>0.498909</td>\n",
       "      <td>0.549178</td>\n",
       "      <td>38969.000000</td>\n",
       "    </tr>\n",
       "    <tr>\n",
       "      <th>QA</th>\n",
       "      <td>0.618192</td>\n",
       "      <td>0.526934</td>\n",
       "      <td>0.568927</td>\n",
       "      <td>27679.000000</td>\n",
       "    </tr>\n",
       "    <tr>\n",
       "      <th>SA</th>\n",
       "      <td>0.528759</td>\n",
       "      <td>0.588043</td>\n",
       "      <td>0.556828</td>\n",
       "      <td>23903.000000</td>\n",
       "    </tr>\n",
       "    <tr>\n",
       "      <th>SD</th>\n",
       "      <td>0.677124</td>\n",
       "      <td>0.832569</td>\n",
       "      <td>0.746843</td>\n",
       "      <td>12859.000000</td>\n",
       "    </tr>\n",
       "    <tr>\n",
       "      <th>SY</th>\n",
       "      <td>0.505326</td>\n",
       "      <td>0.649136</td>\n",
       "      <td>0.568274</td>\n",
       "      <td>14470.000000</td>\n",
       "    </tr>\n",
       "    <tr>\n",
       "      <th>TN</th>\n",
       "      <td>0.713372</td>\n",
       "      <td>0.731213</td>\n",
       "      <td>0.722182</td>\n",
       "      <td>8237.000000</td>\n",
       "    </tr>\n",
       "    <tr>\n",
       "      <th>YE</th>\n",
       "      <td>0.348487</td>\n",
       "      <td>0.728064</td>\n",
       "      <td>0.471359</td>\n",
       "      <td>8844.000000</td>\n",
       "    </tr>\n",
       "    <tr>\n",
       "      <th>accuracy</th>\n",
       "      <td>0.635178</td>\n",
       "      <td>0.635178</td>\n",
       "      <td>0.635178</td>\n",
       "      <td>0.635178</td>\n",
       "    </tr>\n",
       "    <tr>\n",
       "      <th>macro avg</th>\n",
       "      <td>0.622743</td>\n",
       "      <td>0.655620</td>\n",
       "      <td>0.631590</td>\n",
       "      <td>408196.000000</td>\n",
       "    </tr>\n",
       "    <tr>\n",
       "      <th>weighted avg</th>\n",
       "      <td>0.648353</td>\n",
       "      <td>0.635178</td>\n",
       "      <td>0.636543</td>\n",
       "      <td>408196.000000</td>\n",
       "    </tr>\n",
       "  </tbody>\n",
       "</table>\n",
       "</div>"
      ],
      "text/plain": [
       "              precision    recall  f1-score        support\n",
       "AE             0.552599  0.518654  0.535089   23426.000000\n",
       "BH             0.515774  0.481621  0.498112   23423.000000\n",
       "DZ             0.679692  0.748006  0.712215   14417.000000\n",
       "EG             0.837922  0.809625  0.823531   51346.000000\n",
       "IQ             0.621425  0.804216  0.701102   13806.000000\n",
       "JO             0.489858  0.493206  0.491526   24874.000000\n",
       "KW             0.686042  0.528256  0.596898   37514.000000\n",
       "LB             0.777253  0.688859  0.730391   24603.000000\n",
       "LY             0.821414  0.722690  0.768896   32516.000000\n",
       "MA             0.729092  0.814981  0.769648   10280.000000\n",
       "OM             0.496335  0.636171  0.557620   17030.000000\n",
       "PL             0.610711  0.498909  0.549178   38969.000000\n",
       "QA             0.618192  0.526934  0.568927   27679.000000\n",
       "SA             0.528759  0.588043  0.556828   23903.000000\n",
       "SD             0.677124  0.832569  0.746843   12859.000000\n",
       "SY             0.505326  0.649136  0.568274   14470.000000\n",
       "TN             0.713372  0.731213  0.722182    8237.000000\n",
       "YE             0.348487  0.728064  0.471359    8844.000000\n",
       "accuracy       0.635178  0.635178  0.635178       0.635178\n",
       "macro avg      0.622743  0.655620  0.631590  408196.000000\n",
       "weighted avg   0.648353  0.635178  0.636543  408196.000000"
      ]
     },
     "execution_count": 18,
     "metadata": {},
     "output_type": "execute_result"
    }
   ],
   "source": [
    "pd.DataFrame(train_report).T"
   ]
  },
  {
   "cell_type": "markdown",
   "metadata": {},
   "source": [
    "# Test data report"
   ]
  },
  {
   "cell_type": "code",
   "execution_count": 19,
   "metadata": {},
   "outputs": [],
   "source": [
    "y_test_pred = np.argmax(model.predict(X_test),axis=1)"
   ]
  },
  {
   "cell_type": "code",
   "execution_count": 20,
   "metadata": {},
   "outputs": [],
   "source": [
    "y_test_pred_i = encoder.inverse_transform(y_test_pred)\n",
    "y_test_i = encoder.inverse_transform(y_test)"
   ]
  },
  {
   "cell_type": "code",
   "execution_count": 21,
   "metadata": {},
   "outputs": [],
   "source": [
    "test_report = classification_report(y_test_i, y_test_pred_i, output_dict=True)"
   ]
  },
  {
   "cell_type": "code",
   "execution_count": 22,
   "metadata": {
    "scrolled": false
   },
   "outputs": [
    {
     "data": {
      "text/html": [
       "<div>\n",
       "<style scoped>\n",
       "    .dataframe tbody tr th:only-of-type {\n",
       "        vertical-align: middle;\n",
       "    }\n",
       "\n",
       "    .dataframe tbody tr th {\n",
       "        vertical-align: top;\n",
       "    }\n",
       "\n",
       "    .dataframe thead th {\n",
       "        text-align: right;\n",
       "    }\n",
       "</style>\n",
       "<table border=\"1\" class=\"dataframe\">\n",
       "  <thead>\n",
       "    <tr style=\"text-align: right;\">\n",
       "      <th></th>\n",
       "      <th>precision</th>\n",
       "      <th>recall</th>\n",
       "      <th>f1-score</th>\n",
       "      <th>support</th>\n",
       "    </tr>\n",
       "  </thead>\n",
       "  <tbody>\n",
       "    <tr>\n",
       "      <th>AE</th>\n",
       "      <td>0.387260</td>\n",
       "      <td>0.372822</td>\n",
       "      <td>0.379904</td>\n",
       "      <td>2870.00000</td>\n",
       "    </tr>\n",
       "    <tr>\n",
       "      <th>BH</th>\n",
       "      <td>0.342195</td>\n",
       "      <td>0.314047</td>\n",
       "      <td>0.327517</td>\n",
       "      <td>2869.00000</td>\n",
       "    </tr>\n",
       "    <tr>\n",
       "      <th>DZ</th>\n",
       "      <td>0.478873</td>\n",
       "      <td>0.539071</td>\n",
       "      <td>0.507192</td>\n",
       "      <td>1766.00000</td>\n",
       "    </tr>\n",
       "    <tr>\n",
       "      <th>EG</th>\n",
       "      <td>0.777685</td>\n",
       "      <td>0.743561</td>\n",
       "      <td>0.760241</td>\n",
       "      <td>6290.00000</td>\n",
       "    </tr>\n",
       "    <tr>\n",
       "      <th>IQ</th>\n",
       "      <td>0.457461</td>\n",
       "      <td>0.607333</td>\n",
       "      <td>0.521850</td>\n",
       "      <td>1691.00000</td>\n",
       "    </tr>\n",
       "    <tr>\n",
       "      <th>JO</th>\n",
       "      <td>0.357395</td>\n",
       "      <td>0.365606</td>\n",
       "      <td>0.361454</td>\n",
       "      <td>3047.00000</td>\n",
       "    </tr>\n",
       "    <tr>\n",
       "      <th>KW</th>\n",
       "      <td>0.564723</td>\n",
       "      <td>0.421545</td>\n",
       "      <td>0.482741</td>\n",
       "      <td>4595.00000</td>\n",
       "    </tr>\n",
       "    <tr>\n",
       "      <th>LB</th>\n",
       "      <td>0.659558</td>\n",
       "      <td>0.574652</td>\n",
       "      <td>0.614184</td>\n",
       "      <td>3014.00000</td>\n",
       "    </tr>\n",
       "    <tr>\n",
       "      <th>LY</th>\n",
       "      <td>0.705287</td>\n",
       "      <td>0.612855</td>\n",
       "      <td>0.655830</td>\n",
       "      <td>3983.00000</td>\n",
       "    </tr>\n",
       "    <tr>\n",
       "      <th>MA</th>\n",
       "      <td>0.559945</td>\n",
       "      <td>0.641779</td>\n",
       "      <td>0.598075</td>\n",
       "      <td>1259.00000</td>\n",
       "    </tr>\n",
       "    <tr>\n",
       "      <th>OM</th>\n",
       "      <td>0.328241</td>\n",
       "      <td>0.422339</td>\n",
       "      <td>0.369392</td>\n",
       "      <td>2086.00000</td>\n",
       "    </tr>\n",
       "    <tr>\n",
       "      <th>PL</th>\n",
       "      <td>0.517151</td>\n",
       "      <td>0.413786</td>\n",
       "      <td>0.459730</td>\n",
       "      <td>4773.00000</td>\n",
       "    </tr>\n",
       "    <tr>\n",
       "      <th>QA</th>\n",
       "      <td>0.481261</td>\n",
       "      <td>0.405310</td>\n",
       "      <td>0.440032</td>\n",
       "      <td>3390.00000</td>\n",
       "    </tr>\n",
       "    <tr>\n",
       "      <th>SA</th>\n",
       "      <td>0.379988</td>\n",
       "      <td>0.416325</td>\n",
       "      <td>0.397327</td>\n",
       "      <td>2928.00000</td>\n",
       "    </tr>\n",
       "    <tr>\n",
       "      <th>SD</th>\n",
       "      <td>0.511474</td>\n",
       "      <td>0.636825</td>\n",
       "      <td>0.567308</td>\n",
       "      <td>1575.00000</td>\n",
       "    </tr>\n",
       "    <tr>\n",
       "      <th>SY</th>\n",
       "      <td>0.336066</td>\n",
       "      <td>0.439616</td>\n",
       "      <td>0.380929</td>\n",
       "      <td>1772.00000</td>\n",
       "    </tr>\n",
       "    <tr>\n",
       "      <th>TN</th>\n",
       "      <td>0.454808</td>\n",
       "      <td>0.468781</td>\n",
       "      <td>0.461689</td>\n",
       "      <td>1009.00000</td>\n",
       "    </tr>\n",
       "    <tr>\n",
       "      <th>YE</th>\n",
       "      <td>0.156994</td>\n",
       "      <td>0.347184</td>\n",
       "      <td>0.216216</td>\n",
       "      <td>1083.00000</td>\n",
       "    </tr>\n",
       "    <tr>\n",
       "      <th>accuracy</th>\n",
       "      <td>0.494780</td>\n",
       "      <td>0.494780</td>\n",
       "      <td>0.494780</td>\n",
       "      <td>0.49478</td>\n",
       "    </tr>\n",
       "    <tr>\n",
       "      <th>macro avg</th>\n",
       "      <td>0.469798</td>\n",
       "      <td>0.485747</td>\n",
       "      <td>0.472312</td>\n",
       "      <td>50000.00000</td>\n",
       "    </tr>\n",
       "    <tr>\n",
       "      <th>weighted avg</th>\n",
       "      <td>0.514343</td>\n",
       "      <td>0.494780</td>\n",
       "      <td>0.500287</td>\n",
       "      <td>50000.00000</td>\n",
       "    </tr>\n",
       "  </tbody>\n",
       "</table>\n",
       "</div>"
      ],
      "text/plain": [
       "              precision    recall  f1-score      support\n",
       "AE             0.387260  0.372822  0.379904   2870.00000\n",
       "BH             0.342195  0.314047  0.327517   2869.00000\n",
       "DZ             0.478873  0.539071  0.507192   1766.00000\n",
       "EG             0.777685  0.743561  0.760241   6290.00000\n",
       "IQ             0.457461  0.607333  0.521850   1691.00000\n",
       "JO             0.357395  0.365606  0.361454   3047.00000\n",
       "KW             0.564723  0.421545  0.482741   4595.00000\n",
       "LB             0.659558  0.574652  0.614184   3014.00000\n",
       "LY             0.705287  0.612855  0.655830   3983.00000\n",
       "MA             0.559945  0.641779  0.598075   1259.00000\n",
       "OM             0.328241  0.422339  0.369392   2086.00000\n",
       "PL             0.517151  0.413786  0.459730   4773.00000\n",
       "QA             0.481261  0.405310  0.440032   3390.00000\n",
       "SA             0.379988  0.416325  0.397327   2928.00000\n",
       "SD             0.511474  0.636825  0.567308   1575.00000\n",
       "SY             0.336066  0.439616  0.380929   1772.00000\n",
       "TN             0.454808  0.468781  0.461689   1009.00000\n",
       "YE             0.156994  0.347184  0.216216   1083.00000\n",
       "accuracy       0.494780  0.494780  0.494780      0.49478\n",
       "macro avg      0.469798  0.485747  0.472312  50000.00000\n",
       "weighted avg   0.514343  0.494780  0.500287  50000.00000"
      ]
     },
     "execution_count": 22,
     "metadata": {},
     "output_type": "execute_result"
    }
   ],
   "source": [
    "pd.DataFrame(test_report).T"
   ]
  },
  {
   "cell_type": "markdown",
   "metadata": {},
   "source": [
    "# Save model"
   ]
  },
  {
   "cell_type": "code",
   "execution_count": 23,
   "metadata": {},
   "outputs": [],
   "source": [
    "model.save('models/deep_learning.h5')"
   ]
  },
  {
   "cell_type": "code",
   "execution_count": 25,
   "metadata": {},
   "outputs": [],
   "source": [
    "pickle.dump(tokenizer, open('models/tokenizer.sav', 'wb'))"
   ]
  },
  {
   "cell_type": "code",
   "execution_count": 26,
   "metadata": {},
   "outputs": [],
   "source": [
    "pickle.dump(encoder, open('models/encoder.sav', 'wb'))"
   ]
  }
 ],
 "metadata": {
  "kernelspec": {
   "display_name": "Python [conda env:tf]",
   "language": "python",
   "name": "conda-env-tf-py"
  },
  "language_info": {
   "codemirror_mode": {
    "name": "ipython",
    "version": 3
   },
   "file_extension": ".py",
   "mimetype": "text/x-python",
   "name": "python",
   "nbconvert_exporter": "python",
   "pygments_lexer": "ipython3",
   "version": "3.8.12"
  }
 },
 "nbformat": 4,
 "nbformat_minor": 4
}
